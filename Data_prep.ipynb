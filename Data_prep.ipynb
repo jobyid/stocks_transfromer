{
 "cells": [
  {
   "cell_type": "code",
   "execution_count": 1,
   "id": "c5b3b73f",
   "metadata": {
    "ExecuteTime": {
     "end_time": "2021-04-16T18:59:25.269294Z",
     "start_time": "2021-04-16T18:59:24.716923Z"
    }
   },
   "outputs": [],
   "source": [
    "import pandas as pd \n",
    "import numpy as np \n",
    "\n",
    "import re "
   ]
  },
  {
   "cell_type": "markdown",
   "id": "e04bd2c3",
   "metadata": {},
   "source": [
    "Start by importing the data and adding in some moving averages and exponential moving averages "
   ]
  },
  {
   "cell_type": "code",
   "execution_count": 2,
   "id": "60b3f63b",
   "metadata": {
    "ExecuteTime": {
     "end_time": "2021-04-16T18:59:25.329973Z",
     "start_time": "2021-04-16T18:59:25.271988Z"
    }
   },
   "outputs": [
    {
     "data": {
      "text/html": [
       "<div>\n",
       "<style scoped>\n",
       "    .dataframe tbody tr th:only-of-type {\n",
       "        vertical-align: middle;\n",
       "    }\n",
       "\n",
       "    .dataframe tbody tr th {\n",
       "        vertical-align: top;\n",
       "    }\n",
       "\n",
       "    .dataframe thead th {\n",
       "        text-align: right;\n",
       "    }\n",
       "</style>\n",
       "<table border=\"1\" class=\"dataframe\">\n",
       "  <thead>\n",
       "    <tr style=\"text-align: right;\">\n",
       "      <th></th>\n",
       "      <th>Date</th>\n",
       "      <th>Open</th>\n",
       "      <th>High</th>\n",
       "      <th>Low</th>\n",
       "      <th>Close_</th>\n",
       "      <th>AdjClose__</th>\n",
       "      <th>Volume</th>\n",
       "    </tr>\n",
       "  </thead>\n",
       "  <tbody>\n",
       "    <tr>\n",
       "      <th>9519</th>\n",
       "      <td>Jan 03, 1984</td>\n",
       "      <td>997.50</td>\n",
       "      <td>1,001.40</td>\n",
       "      <td>997.50</td>\n",
       "      <td>997.50</td>\n",
       "      <td>997.50</td>\n",
       "      <td>NaN</td>\n",
       "    </tr>\n",
       "    <tr>\n",
       "      <th>9518</th>\n",
       "      <td>Jan 04, 1984</td>\n",
       "      <td>997.50</td>\n",
       "      <td>999.50</td>\n",
       "      <td>993.30</td>\n",
       "      <td>998.60</td>\n",
       "      <td>998.60</td>\n",
       "      <td>NaN</td>\n",
       "    </tr>\n",
       "    <tr>\n",
       "      <th>9517</th>\n",
       "      <td>Jan 05, 1984</td>\n",
       "      <td>1,007.10</td>\n",
       "      <td>1,015.80</td>\n",
       "      <td>1,007.10</td>\n",
       "      <td>1,015.80</td>\n",
       "      <td>1,015.80</td>\n",
       "      <td>NaN</td>\n",
       "    </tr>\n",
       "    <tr>\n",
       "      <th>9516</th>\n",
       "      <td>Jan 06, 1984</td>\n",
       "      <td>1,019.00</td>\n",
       "      <td>1,029.30</td>\n",
       "      <td>1,019.00</td>\n",
       "      <td>1,029.00</td>\n",
       "      <td>1,029.00</td>\n",
       "      <td>NaN</td>\n",
       "    </tr>\n",
       "    <tr>\n",
       "      <th>9515</th>\n",
       "      <td>Jan 09, 1984</td>\n",
       "      <td>1,030.60</td>\n",
       "      <td>1,035.40</td>\n",
       "      <td>1,030.60</td>\n",
       "      <td>1,034.60</td>\n",
       "      <td>1,034.60</td>\n",
       "      <td>NaN</td>\n",
       "    </tr>\n",
       "  </tbody>\n",
       "</table>\n",
       "</div>"
      ],
      "text/plain": [
       "              Date      Open      High       Low    Close_ AdjClose__ Volume\n",
       "9519  Jan 03, 1984    997.50  1,001.40    997.50    997.50     997.50    NaN\n",
       "9518  Jan 04, 1984    997.50    999.50    993.30    998.60     998.60    NaN\n",
       "9517  Jan 05, 1984  1,007.10  1,015.80  1,007.10  1,015.80   1,015.80    NaN\n",
       "9516  Jan 06, 1984  1,019.00  1,029.30  1,019.00  1,029.00   1,029.00    NaN\n",
       "9515  Jan 09, 1984  1,030.60  1,035.40  1,030.60  1,034.60   1,034.60    NaN"
      ]
     },
     "execution_count": 2,
     "metadata": {},
     "output_type": "execute_result"
    }
   ],
   "source": [
    "df = pd.read_csv('FTSE 100 - 1984-2020.csv')\n",
    "df = df.reindex(index=df.index[::-1])\n",
    "columns = df.columns\n",
    "df.head()"
   ]
  },
  {
   "cell_type": "code",
   "execution_count": 3,
   "id": "9097fbbd",
   "metadata": {
    "ExecuteTime": {
     "end_time": "2021-04-16T18:59:25.509769Z",
     "start_time": "2021-04-16T18:59:25.339802Z"
    }
   },
   "outputs": [],
   "source": [
    "# convert all the values from strings to floats. \n",
    "def string_to_float(x):\n",
    "    if x is not np.nan:\n",
    "        x = re.sub(\",\", \"\",x)\n",
    "        x = float(x)\n",
    "    else:\n",
    "        x = 0 \n",
    "    return x\n",
    "\n",
    "for col in columns:\n",
    "    if col != \"Date\":\n",
    "        df[col] = df[col].apply(lambda x: string_to_float(str(x)))\n"
   ]
  },
  {
   "cell_type": "code",
   "execution_count": null,
   "id": "30ed5791",
   "metadata": {
    "ExecuteTime": {
     "end_time": "2021-04-08T18:25:53.449843Z",
     "start_time": "2021-04-08T18:25:53.445758Z"
    }
   },
   "outputs": [],
   "source": []
  },
  {
   "cell_type": "code",
   "execution_count": 4,
   "id": "3b5b7533",
   "metadata": {
    "ExecuteTime": {
     "end_time": "2021-04-16T18:59:25.524565Z",
     "start_time": "2021-04-16T18:59:25.512047Z"
    }
   },
   "outputs": [
    {
     "data": {
      "text/html": [
       "<div>\n",
       "<style scoped>\n",
       "    .dataframe tbody tr th:only-of-type {\n",
       "        vertical-align: middle;\n",
       "    }\n",
       "\n",
       "    .dataframe tbody tr th {\n",
       "        vertical-align: top;\n",
       "    }\n",
       "\n",
       "    .dataframe thead th {\n",
       "        text-align: right;\n",
       "    }\n",
       "</style>\n",
       "<table border=\"1\" class=\"dataframe\">\n",
       "  <thead>\n",
       "    <tr style=\"text-align: right;\">\n",
       "      <th></th>\n",
       "      <th>Date</th>\n",
       "      <th>Open</th>\n",
       "      <th>High</th>\n",
       "      <th>Low</th>\n",
       "      <th>Close_</th>\n",
       "      <th>AdjClose__</th>\n",
       "      <th>Volume</th>\n",
       "    </tr>\n",
       "  </thead>\n",
       "  <tbody>\n",
       "    <tr>\n",
       "      <th>4</th>\n",
       "      <td>Dec 08, 2020</td>\n",
       "      <td>6555.4</td>\n",
       "      <td>6567.6</td>\n",
       "      <td>6518.4</td>\n",
       "      <td>6558.8</td>\n",
       "      <td>6558.8</td>\n",
       "      <td>7.581868e+08</td>\n",
       "    </tr>\n",
       "    <tr>\n",
       "      <th>3</th>\n",
       "      <td>Dec 09, 2020</td>\n",
       "      <td>6558.8</td>\n",
       "      <td>6623.0</td>\n",
       "      <td>6558.8</td>\n",
       "      <td>6564.3</td>\n",
       "      <td>6564.3</td>\n",
       "      <td>7.693453e+08</td>\n",
       "    </tr>\n",
       "    <tr>\n",
       "      <th>2</th>\n",
       "      <td>Dec 10, 2020</td>\n",
       "      <td>6564.3</td>\n",
       "      <td>6640.7</td>\n",
       "      <td>6561.1</td>\n",
       "      <td>6599.8</td>\n",
       "      <td>6599.8</td>\n",
       "      <td>1.109877e+09</td>\n",
       "    </tr>\n",
       "    <tr>\n",
       "      <th>1</th>\n",
       "      <td>Dec 11, 2020</td>\n",
       "      <td>6599.8</td>\n",
       "      <td>6607.4</td>\n",
       "      <td>6520.5</td>\n",
       "      <td>6546.8</td>\n",
       "      <td>6546.8</td>\n",
       "      <td>1.069086e+09</td>\n",
       "    </tr>\n",
       "    <tr>\n",
       "      <th>0</th>\n",
       "      <td>Dec 14, 2020</td>\n",
       "      <td>6546.8</td>\n",
       "      <td>6583.7</td>\n",
       "      <td>6524.7</td>\n",
       "      <td>6531.8</td>\n",
       "      <td>6531.8</td>\n",
       "      <td>8.702654e+08</td>\n",
       "    </tr>\n",
       "  </tbody>\n",
       "</table>\n",
       "</div>"
      ],
      "text/plain": [
       "           Date    Open    High     Low  Close_  AdjClose__        Volume\n",
       "4  Dec 08, 2020  6555.4  6567.6  6518.4  6558.8      6558.8  7.581868e+08\n",
       "3  Dec 09, 2020  6558.8  6623.0  6558.8  6564.3      6564.3  7.693453e+08\n",
       "2  Dec 10, 2020  6564.3  6640.7  6561.1  6599.8      6599.8  1.109877e+09\n",
       "1  Dec 11, 2020  6599.8  6607.4  6520.5  6546.8      6546.8  1.069086e+09\n",
       "0  Dec 14, 2020  6546.8  6583.7  6524.7  6531.8      6531.8  8.702654e+08"
      ]
     },
     "execution_count": 4,
     "metadata": {},
     "output_type": "execute_result"
    }
   ],
   "source": [
    "df.tail()"
   ]
  },
  {
   "cell_type": "code",
   "execution_count": 5,
   "id": "614223d1",
   "metadata": {
    "ExecuteTime": {
     "end_time": "2021-04-16T18:59:25.534650Z",
     "start_time": "2021-04-16T18:59:25.527220Z"
    }
   },
   "outputs": [],
   "source": [
    "def add_moving_average(term, exp=False):\n",
    "    for col in columns:\n",
    "        if col != \"Date\" and col != \"target\":\n",
    "            if exp:\n",
    "                col_name = col + str(term) + \"day\" + \"_exp\"\n",
    "                df[col_name] = df[col].rolling(window=term, win_type='triang').mean()\n",
    "            else: \n",
    "                col_name = col + str(term) + \"day\"\n",
    "                df[col_name] = df[col].rolling(window=term).mean()\n"
   ]
  },
  {
   "cell_type": "code",
   "execution_count": 6,
   "id": "194f538d",
   "metadata": {
    "ExecuteTime": {
     "end_time": "2021-04-16T18:59:25.540425Z",
     "start_time": "2021-04-16T18:59:25.537054Z"
    }
   },
   "outputs": [],
   "source": [
    "flat_averages = [10,32,45,78,101]\n",
    "exp_averages  = [3,12,48,112]"
   ]
  },
  {
   "cell_type": "markdown",
   "id": "d0252645",
   "metadata": {},
   "source": [
    "Run through and apply the moving averages to the columns "
   ]
  },
  {
   "cell_type": "code",
   "execution_count": 7,
   "id": "341eb55c",
   "metadata": {
    "ExecuteTime": {
     "end_time": "2021-04-16T18:59:26.104946Z",
     "start_time": "2021-04-16T18:59:25.545553Z"
    }
   },
   "outputs": [],
   "source": [
    "for x in flat_averages: \n",
    "    add_moving_average(x)\n",
    "for x in exp_averages:\n",
    "    add_moving_average(x, exp=True)"
   ]
  },
  {
   "cell_type": "code",
   "execution_count": 8,
   "id": "48142b87",
   "metadata": {
    "ExecuteTime": {
     "end_time": "2021-04-16T18:59:26.112280Z",
     "start_time": "2021-04-16T18:59:26.107758Z"
    }
   },
   "outputs": [
    {
     "data": {
      "text/plain": [
       "61"
      ]
     },
     "execution_count": 8,
     "metadata": {},
     "output_type": "execute_result"
    }
   ],
   "source": [
    "len(df.columns)"
   ]
  },
  {
   "cell_type": "code",
   "execution_count": 9,
   "id": "6d480d81",
   "metadata": {
    "ExecuteTime": {
     "end_time": "2021-04-16T18:59:26.119243Z",
     "start_time": "2021-04-16T18:59:26.114838Z"
    }
   },
   "outputs": [],
   "source": [
    "df[\"target\"] = df[\"Close_\"].shift(1)"
   ]
  },
  {
   "cell_type": "code",
   "execution_count": 10,
   "id": "d9705b95",
   "metadata": {
    "ExecuteTime": {
     "end_time": "2021-04-16T18:59:26.321417Z",
     "start_time": "2021-04-16T18:59:26.121920Z"
    }
   },
   "outputs": [],
   "source": [
    "def word_target(x):\n",
    "    y = \"up\"\n",
    "    if x['Close_'] > x[\"target\"]:\n",
    "        y = \"down\"  \n",
    "    return y \n",
    "df[\"wordT\"] = df.apply(lambda x: word_target(x), axis=1)"
   ]
  },
  {
   "cell_type": "code",
   "execution_count": 11,
   "id": "93bcb63f",
   "metadata": {
    "ExecuteTime": {
     "end_time": "2021-04-16T18:59:26.329248Z",
     "start_time": "2021-04-16T18:59:26.323812Z"
    }
   },
   "outputs": [],
   "source": [
    "df.drop(\"target\", inplace=True, axis=1)"
   ]
  },
  {
   "cell_type": "code",
   "execution_count": 12,
   "id": "c7ffd10d",
   "metadata": {
    "ExecuteTime": {
     "end_time": "2021-04-16T18:59:26.358267Z",
     "start_time": "2021-04-16T18:59:26.331716Z"
    }
   },
   "outputs": [
    {
     "data": {
      "text/html": [
       "<div>\n",
       "<style scoped>\n",
       "    .dataframe tbody tr th:only-of-type {\n",
       "        vertical-align: middle;\n",
       "    }\n",
       "\n",
       "    .dataframe tbody tr th {\n",
       "        vertical-align: top;\n",
       "    }\n",
       "\n",
       "    .dataframe thead th {\n",
       "        text-align: right;\n",
       "    }\n",
       "</style>\n",
       "<table border=\"1\" class=\"dataframe\">\n",
       "  <thead>\n",
       "    <tr style=\"text-align: right;\">\n",
       "      <th></th>\n",
       "      <th>Date</th>\n",
       "      <th>Open</th>\n",
       "      <th>High</th>\n",
       "      <th>Low</th>\n",
       "      <th>Close_</th>\n",
       "      <th>AdjClose__</th>\n",
       "      <th>Volume</th>\n",
       "      <th>Open10day</th>\n",
       "      <th>High10day</th>\n",
       "      <th>Low10day</th>\n",
       "      <th>...</th>\n",
       "      <th>Close_48day_exp</th>\n",
       "      <th>AdjClose__48day_exp</th>\n",
       "      <th>Volume48day_exp</th>\n",
       "      <th>Open112day_exp</th>\n",
       "      <th>High112day_exp</th>\n",
       "      <th>Low112day_exp</th>\n",
       "      <th>Close_112day_exp</th>\n",
       "      <th>AdjClose__112day_exp</th>\n",
       "      <th>Volume112day_exp</th>\n",
       "      <th>wordT</th>\n",
       "    </tr>\n",
       "  </thead>\n",
       "  <tbody>\n",
       "    <tr>\n",
       "      <th>4</th>\n",
       "      <td>Dec 08, 2020</td>\n",
       "      <td>6555.4</td>\n",
       "      <td>6567.6</td>\n",
       "      <td>6518.4</td>\n",
       "      <td>6558.8</td>\n",
       "      <td>6558.8</td>\n",
       "      <td>7.581868e+08</td>\n",
       "      <td>6426.40</td>\n",
       "      <td>6474.95</td>\n",
       "      <td>6388.26</td>\n",
       "      <td>...</td>\n",
       "      <td>6031.190538</td>\n",
       "      <td>6031.190538</td>\n",
       "      <td>9.713313e+08</td>\n",
       "      <td>5986.226339</td>\n",
       "      <td>6035.198724</td>\n",
       "      <td>5937.209774</td>\n",
       "      <td>5985.758450</td>\n",
       "      <td>5985.758450</td>\n",
       "      <td>7.577095e+08</td>\n",
       "      <td>down</td>\n",
       "    </tr>\n",
       "    <tr>\n",
       "      <th>3</th>\n",
       "      <td>Dec 09, 2020</td>\n",
       "      <td>6558.8</td>\n",
       "      <td>6623.0</td>\n",
       "      <td>6558.8</td>\n",
       "      <td>6564.3</td>\n",
       "      <td>6564.3</td>\n",
       "      <td>7.693453e+08</td>\n",
       "      <td>6439.06</td>\n",
       "      <td>6490.38</td>\n",
       "      <td>6406.61</td>\n",
       "      <td>...</td>\n",
       "      <td>6052.891059</td>\n",
       "      <td>6052.891059</td>\n",
       "      <td>9.862015e+08</td>\n",
       "      <td>5985.758450</td>\n",
       "      <td>6034.844372</td>\n",
       "      <td>5936.970918</td>\n",
       "      <td>5985.649809</td>\n",
       "      <td>5985.649809</td>\n",
       "      <td>7.617105e+08</td>\n",
       "      <td>down</td>\n",
       "    </tr>\n",
       "    <tr>\n",
       "      <th>2</th>\n",
       "      <td>Dec 10, 2020</td>\n",
       "      <td>6564.3</td>\n",
       "      <td>6640.7</td>\n",
       "      <td>6561.1</td>\n",
       "      <td>6599.8</td>\n",
       "      <td>6599.8</td>\n",
       "      <td>1.109877e+09</td>\n",
       "      <td>6456.38</td>\n",
       "      <td>6513.18</td>\n",
       "      <td>6427.77</td>\n",
       "      <td>...</td>\n",
       "      <td>6075.786632</td>\n",
       "      <td>6075.786632</td>\n",
       "      <td>1.000835e+09</td>\n",
       "      <td>5985.649809</td>\n",
       "      <td>6034.830931</td>\n",
       "      <td>5937.077455</td>\n",
       "      <td>5985.883913</td>\n",
       "      <td>5985.883913</td>\n",
       "      <td>7.657117e+08</td>\n",
       "      <td>down</td>\n",
       "    </tr>\n",
       "    <tr>\n",
       "      <th>1</th>\n",
       "      <td>Dec 11, 2020</td>\n",
       "      <td>6599.8</td>\n",
       "      <td>6607.4</td>\n",
       "      <td>6520.5</td>\n",
       "      <td>6546.8</td>\n",
       "      <td>6546.8</td>\n",
       "      <td>1.069086e+09</td>\n",
       "      <td>6480.07</td>\n",
       "      <td>6536.33</td>\n",
       "      <td>6449.60</td>\n",
       "      <td>...</td>\n",
       "      <td>6099.417274</td>\n",
       "      <td>6099.417274</td>\n",
       "      <td>1.013642e+09</td>\n",
       "      <td>5985.883913</td>\n",
       "      <td>6035.150686</td>\n",
       "      <td>5937.526674</td>\n",
       "      <td>5986.465306</td>\n",
       "      <td>5986.465306</td>\n",
       "      <td>7.698038e+08</td>\n",
       "      <td>up</td>\n",
       "    </tr>\n",
       "    <tr>\n",
       "      <th>0</th>\n",
       "      <td>Dec 14, 2020</td>\n",
       "      <td>6546.8</td>\n",
       "      <td>6583.7</td>\n",
       "      <td>6524.7</td>\n",
       "      <td>6531.8</td>\n",
       "      <td>6531.8</td>\n",
       "      <td>8.702654e+08</td>\n",
       "      <td>6497.99</td>\n",
       "      <td>6554.30</td>\n",
       "      <td>6475.45</td>\n",
       "      <td>...</td>\n",
       "      <td>6123.055208</td>\n",
       "      <td>6123.055208</td>\n",
       "      <td>1.023013e+09</td>\n",
       "      <td>5986.465306</td>\n",
       "      <td>6035.821110</td>\n",
       "      <td>5938.329225</td>\n",
       "      <td>5987.380517</td>\n",
       "      <td>5987.380517</td>\n",
       "      <td>7.739384e+08</td>\n",
       "      <td>up</td>\n",
       "    </tr>\n",
       "  </tbody>\n",
       "</table>\n",
       "<p>5 rows × 62 columns</p>\n",
       "</div>"
      ],
      "text/plain": [
       "           Date    Open    High     Low  Close_  AdjClose__        Volume  \\\n",
       "4  Dec 08, 2020  6555.4  6567.6  6518.4  6558.8      6558.8  7.581868e+08   \n",
       "3  Dec 09, 2020  6558.8  6623.0  6558.8  6564.3      6564.3  7.693453e+08   \n",
       "2  Dec 10, 2020  6564.3  6640.7  6561.1  6599.8      6599.8  1.109877e+09   \n",
       "1  Dec 11, 2020  6599.8  6607.4  6520.5  6546.8      6546.8  1.069086e+09   \n",
       "0  Dec 14, 2020  6546.8  6583.7  6524.7  6531.8      6531.8  8.702654e+08   \n",
       "\n",
       "   Open10day  High10day  Low10day  ...  Close_48day_exp  AdjClose__48day_exp  \\\n",
       "4    6426.40    6474.95   6388.26  ...      6031.190538          6031.190538   \n",
       "3    6439.06    6490.38   6406.61  ...      6052.891059          6052.891059   \n",
       "2    6456.38    6513.18   6427.77  ...      6075.786632          6075.786632   \n",
       "1    6480.07    6536.33   6449.60  ...      6099.417274          6099.417274   \n",
       "0    6497.99    6554.30   6475.45  ...      6123.055208          6123.055208   \n",
       "\n",
       "   Volume48day_exp  Open112day_exp  High112day_exp  Low112day_exp  \\\n",
       "4     9.713313e+08     5986.226339     6035.198724    5937.209774   \n",
       "3     9.862015e+08     5985.758450     6034.844372    5936.970918   \n",
       "2     1.000835e+09     5985.649809     6034.830931    5937.077455   \n",
       "1     1.013642e+09     5985.883913     6035.150686    5937.526674   \n",
       "0     1.023013e+09     5986.465306     6035.821110    5938.329225   \n",
       "\n",
       "   Close_112day_exp  AdjClose__112day_exp  Volume112day_exp  wordT  \n",
       "4       5985.758450           5985.758450      7.577095e+08   down  \n",
       "3       5985.649809           5985.649809      7.617105e+08   down  \n",
       "2       5985.883913           5985.883913      7.657117e+08   down  \n",
       "1       5986.465306           5986.465306      7.698038e+08     up  \n",
       "0       5987.380517           5987.380517      7.739384e+08     up  \n",
       "\n",
       "[5 rows x 62 columns]"
      ]
     },
     "execution_count": 12,
     "metadata": {},
     "output_type": "execute_result"
    }
   ],
   "source": [
    "df.tail()"
   ]
  },
  {
   "cell_type": "markdown",
   "id": "02363e8f",
   "metadata": {},
   "source": [
    "Now comes the magic, maybe or some rubbish hard to say. The idea now is to convert the dataframe into a single string. "
   ]
  },
  {
   "cell_type": "code",
   "execution_count": 13,
   "id": "f1c299ec",
   "metadata": {
    "ExecuteTime": {
     "end_time": "2021-04-16T18:59:26.363294Z",
     "start_time": "2021-04-16T18:59:26.360947Z"
    }
   },
   "outputs": [],
   "source": [
    "big_string = \"\""
   ]
  },
  {
   "cell_type": "code",
   "execution_count": 14,
   "id": "afdbe37a",
   "metadata": {
    "ExecuteTime": {
     "end_time": "2021-04-16T18:59:26.369359Z",
     "start_time": "2021-04-16T18:59:26.365939Z"
    }
   },
   "outputs": [],
   "source": [
    "\n",
    "def add_to_string(x):\n",
    "    global big_string\n",
    "    if x == \"\\n\":\n",
    "        big_string += x \n",
    "    else:\n",
    "        x = str(x) + \" ; \"\n",
    "        big_string += x "
   ]
  },
  {
   "cell_type": "code",
   "execution_count": 15,
   "id": "22a46faf",
   "metadata": {
    "ExecuteTime": {
     "end_time": "2021-04-16T19:06:06.718674Z",
     "start_time": "2021-04-16T18:59:26.371508Z"
    }
   },
   "outputs": [],
   "source": [
    "for i, row in df.iterrows():\n",
    "    for col in df.columns:\n",
    "        add_to_string(row[col])\n",
    "    add_to_string(\"\\n\")\n"
   ]
  },
  {
   "cell_type": "code",
   "execution_count": 16,
   "id": "5a7391cf",
   "metadata": {
    "ExecuteTime": {
     "end_time": "2021-04-16T19:06:06.724967Z",
     "start_time": "2021-04-16T19:06:06.721108Z"
    }
   },
   "outputs": [],
   "source": [
    "#print(big_string[0:10])"
   ]
  },
  {
   "cell_type": "code",
   "execution_count": 17,
   "id": "b714d6af",
   "metadata": {
    "ExecuteTime": {
     "end_time": "2021-04-16T19:06:06.750349Z",
     "start_time": "2021-04-16T19:06:06.727353Z"
    }
   },
   "outputs": [],
   "source": [
    "text = open(\"stock_text.txt\", \"w\")\n",
    "n = text.write(big_string)\n",
    "text.close()"
   ]
  },
  {
   "cell_type": "code",
   "execution_count": null,
   "id": "17afa22d",
   "metadata": {},
   "outputs": [],
   "source": []
  }
 ],
 "metadata": {
  "kernelspec": {
   "display_name": "Python 3",
   "language": "python",
   "name": "python3"
  },
  "language_info": {
   "codemirror_mode": {
    "name": "ipython",
    "version": 3
   },
   "file_extension": ".py",
   "mimetype": "text/x-python",
   "name": "python",
   "nbconvert_exporter": "python",
   "pygments_lexer": "ipython3",
   "version": "3.8.2"
  }
 },
 "nbformat": 4,
 "nbformat_minor": 5
}
