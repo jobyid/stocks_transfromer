{
 "cells": [
  {
   "cell_type": "code",
   "execution_count": 1,
   "id": "cb6183a9",
   "metadata": {
    "ExecuteTime": {
     "end_time": "2021-04-16T19:19:01.090386Z",
     "start_time": "2021-04-16T19:18:59.799891Z"
    }
   },
   "outputs": [],
   "source": [
    "import spacy as sp \n",
    "import torch \n",
    "import torch.nn as nn\n",
    "import torch.functional as f \n",
    "from torch.nn import TransformerEncoder, TransformerEncoderLayer\n",
    "import math\n",
    "import time\n",
    "import os\n",
    "import pickle\n",
    "os.environ['KMP_DUPLICATE_LIB_OK']='True'"
   ]
  },
  {
   "cell_type": "markdown",
   "id": "97c65405",
   "metadata": {},
   "source": [
    "Now we have a string from the other workbook we can tokenise it.   \n"
   ]
  },
  {
   "cell_type": "code",
   "execution_count": 2,
   "id": "3639449b",
   "metadata": {
    "ExecuteTime": {
     "end_time": "2021-04-16T19:19:01.096459Z",
     "start_time": "2021-04-16T19:19:01.092897Z"
    }
   },
   "outputs": [],
   "source": [
    "text = open('stock_text.txt','r')"
   ]
  },
  {
   "cell_type": "code",
   "execution_count": 3,
   "id": "0a2218e1",
   "metadata": {
    "ExecuteTime": {
     "end_time": "2021-04-16T19:19:01.115996Z",
     "start_time": "2021-04-16T19:19:01.103797Z"
    }
   },
   "outputs": [],
   "source": [
    "str = text.read()"
   ]
  },
  {
   "cell_type": "code",
   "execution_count": 4,
   "id": "88904059",
   "metadata": {
    "ExecuteTime": {
     "end_time": "2021-04-16T19:19:01.121115Z",
     "start_time": "2021-04-16T19:19:01.118540Z"
    }
   },
   "outputs": [],
   "source": [
    "#nlp = sp.load('en_core_web_sm')\n",
    "#nlp.max_length = 8270369"
   ]
  },
  {
   "cell_type": "code",
   "execution_count": 5,
   "id": "a97b703c",
   "metadata": {
    "ExecuteTime": {
     "end_time": "2021-04-16T19:19:01.126999Z",
     "start_time": "2021-04-16T19:19:01.123903Z"
    }
   },
   "outputs": [],
   "source": [
    "#doc = nlp(str)"
   ]
  },
  {
   "cell_type": "code",
   "execution_count": 6,
   "id": "967e4985",
   "metadata": {
    "ExecuteTime": {
     "end_time": "2021-04-16T19:19:01.133398Z",
     "start_time": "2021-04-16T19:19:01.130412Z"
    }
   },
   "outputs": [],
   "source": [
    "#words = [word.text for word in doc]\n",
    "#print(words)"
   ]
  },
  {
   "cell_type": "code",
   "execution_count": 7,
   "id": "79436df2",
   "metadata": {
    "ExecuteTime": {
     "end_time": "2021-04-16T19:19:01.140719Z",
     "start_time": "2021-04-16T19:19:01.137998Z"
    }
   },
   "outputs": [],
   "source": [
    "word_token = {}\n",
    "token_word = {}"
   ]
  },
  {
   "cell_type": "code",
   "execution_count": 8,
   "id": "43c84d76",
   "metadata": {
    "ExecuteTime": {
     "end_time": "2021-04-16T19:19:01.200704Z",
     "start_time": "2021-04-16T19:19:01.145484Z"
    }
   },
   "outputs": [],
   "source": [
    "str_split = str.split(\" ; \")"
   ]
  },
  {
   "cell_type": "code",
   "execution_count": 9,
   "id": "d081b024",
   "metadata": {
    "ExecuteTime": {
     "end_time": "2021-04-16T19:19:01.493408Z",
     "start_time": "2021-04-16T19:19:01.203035Z"
    }
   },
   "outputs": [],
   "source": [
    "token = 0\n",
    "for s in str_split:\n",
    "    s = s.strip(\"\\n\")\n",
    "    if s not in word_token.keys():\n",
    "        word_token[s] = token\n",
    "        token += 1 "
   ]
  },
  {
   "cell_type": "code",
   "execution_count": 10,
   "id": "c906b060",
   "metadata": {
    "ExecuteTime": {
     "end_time": "2021-04-16T19:19:01.609230Z",
     "start_time": "2021-04-16T19:19:01.495544Z"
    }
   },
   "outputs": [],
   "source": [
    "for k in word_token.keys():\n",
    "    t = word_token[k]\n",
    "    token_word[t] = k "
   ]
  },
  {
   "cell_type": "code",
   "execution_count": 11,
   "id": "e365babe",
   "metadata": {
    "ExecuteTime": {
     "end_time": "2021-04-16T19:19:01.854680Z",
     "start_time": "2021-04-16T19:19:01.611264Z"
    }
   },
   "outputs": [
    {
     "data": {
      "text/plain": [
       "590241"
      ]
     },
     "execution_count": 11,
     "metadata": {},
     "output_type": "execute_result"
    }
   ],
   "source": [
    "#306996\n",
    "input_list = []\n",
    "for s in str_split:\n",
    "    s = s.strip(\"\\n\")\n",
    "    x = word_token[s]\n",
    "    input_list.append(x)\n",
    "len(input_list)"
   ]
  },
  {
   "cell_type": "code",
   "execution_count": 12,
   "id": "a7f5f0a8",
   "metadata": {
    "ExecuteTime": {
     "end_time": "2021-04-16T19:19:02.026736Z",
     "start_time": "2021-04-16T19:19:01.857146Z"
    }
   },
   "outputs": [],
   "source": [
    "# save token dict\n",
    "f = open(\"word_token.pkl\",\"wb\")\n",
    "pickle.dump(word_token,f)\n",
    "f.close()\n",
    "f = open(\"token_word.pkl\",\"wb\")\n",
    "pickle.dump(token_word,f)\n",
    "f.close()"
   ]
  },
  {
   "cell_type": "code",
   "execution_count": 13,
   "id": "cfe9ae79",
   "metadata": {
    "ExecuteTime": {
     "end_time": "2021-04-16T19:19:02.052488Z",
     "start_time": "2021-04-16T19:19:02.029225Z"
    }
   },
   "outputs": [],
   "source": [
    "class TransformerModel(nn.Module):\n",
    "    def __init__(self,ntoken, ninp, nhead, nhid, nlayers, dropout=0.5):\n",
    "        super(TransformerModel, self).__init__()\n",
    "        self.model_type = \"Transformer\"\n",
    "        self.pos_encoder = PositionalEncoding(ninp, dropout)\n",
    "        encoder_layers = TransformerEncoderLayer(ninp, nhead, nhid, dropout)\n",
    "        self.transformer_encoder = TransformerEncoder(encoder_layers, nlayers)\n",
    "        self.encoder = nn.Embedding(ntoken, ninp)\n",
    "        self.ninp = ninp\n",
    "        self.decoder = nn.Linear(ninp, ntoken)\n",
    "        \n",
    "        self.init_weights()\n",
    "        \n",
    "    def generate_square_subsequent_mask(self, sz):\n",
    "        mask = (torch.triu(torch.ones(sz,sz))==1).transpose(0,1)\n",
    "        mask = mask.float().masked_fill(mask == 0, float(\"-inf\")).masked_fill(mask==1, float(0.0))\n",
    "        return mask\n",
    "\n",
    "    def init_weights(self):\n",
    "        initrange = 0.1\n",
    "        self.encoder.weight.data.uniform_(-initrange, initrange)\n",
    "        self.decoder.bias.data.zero_()\n",
    "        self.decoder.weight.data.uniform_(-initrange, initrange)\n",
    "\n",
    "    def forward(self, src, src_mask):\n",
    "        src = self.encoder(src) * math.sqrt(self.ninp)\n",
    "        src = self.pos_encoder(src)\n",
    "        output = self.transformer_encoder(src, src_mask)\n",
    "        output = self.decoder(output)\n",
    "        return output"
   ]
  },
  {
   "cell_type": "code",
   "execution_count": 14,
   "id": "e8762205",
   "metadata": {
    "ExecuteTime": {
     "end_time": "2021-04-16T19:19:02.062293Z",
     "start_time": "2021-04-16T19:19:02.055045Z"
    }
   },
   "outputs": [],
   "source": [
    "class PositionalEncoding(nn.Module):\n",
    "\n",
    "    def __init__(self, d_model, dropout=0.1, max_len=5000):\n",
    "        super(PositionalEncoding, self).__init__()\n",
    "        self.dropout = nn.Dropout(p=dropout)\n",
    "\n",
    "        pe = torch.zeros(max_len, d_model)\n",
    "        position = torch.arange(0, max_len, dtype=torch.float).unsqueeze(1)\n",
    "        div_term = torch.exp(torch.arange(0, d_model, 2).float() * (-math.log(10000.0) / d_model))\n",
    "        pe[:, 0::2] = torch.sin(position * div_term)\n",
    "        pe[:, 1::2] = torch.cos(position * div_term)\n",
    "        pe = pe.unsqueeze(0).transpose(0, 1)\n",
    "        self.register_buffer('pe', pe)\n",
    "\n",
    "    def forward(self, x):\n",
    "        x = x + self.pe[:x.size(0), :]\n",
    "        return self.dropout(x)"
   ]
  },
  {
   "cell_type": "code",
   "execution_count": 15,
   "id": "b550306f",
   "metadata": {
    "ExecuteTime": {
     "end_time": "2021-04-16T19:19:02.069365Z",
     "start_time": "2021-04-16T19:19:02.065809Z"
    }
   },
   "outputs": [],
   "source": [
    "def data_process(raw_text_iter):\n",
    "  data = torch.tensor(raw_text_iter)\n",
    "  return data #torch.cat(tuple(filter(lambda t: t.numel() > 0, data)))"
   ]
  },
  {
   "cell_type": "code",
   "execution_count": 16,
   "id": "9d18368f",
   "metadata": {
    "ExecuteTime": {
     "end_time": "2021-04-16T19:19:02.103899Z",
     "start_time": "2021-04-16T19:19:02.072578Z"
    }
   },
   "outputs": [
    {
     "data": {
      "text/plain": [
       "472192"
      ]
     },
     "execution_count": 16,
     "metadata": {},
     "output_type": "execute_result"
    }
   ],
   "source": [
    "x = data_process(input_list)\n",
    "val = int(len(input_list) * 0.80)\n",
    "val "
   ]
  },
  {
   "cell_type": "code",
   "execution_count": 17,
   "id": "f2db08e9",
   "metadata": {
    "ExecuteTime": {
     "end_time": "2021-04-16T19:19:02.111288Z",
     "start_time": "2021-04-16T19:19:02.106459Z"
    }
   },
   "outputs": [],
   "source": [
    "device = torch.device(\"cuda\" if torch.cuda.is_available() else \"cpu\")\n",
    "\n",
    "def batchify(data, bsz):\n",
    "    # Divide the dataset into bsz parts.\n",
    "    nbatch = data.size(0) // bsz\n",
    "    # Trim off any extra elements that wouldn't cleanly fit (remainders).\n",
    "    data = data.narrow(0, 0, nbatch * bsz)\n",
    "    # Evenly divide the data across the bsz batches.\n",
    "    data = data.view(bsz, -1).t().contiguous()\n",
    "    return data.to(device)"
   ]
  },
  {
   "cell_type": "code",
   "execution_count": 18,
   "id": "a6a9c11f",
   "metadata": {
    "ExecuteTime": {
     "end_time": "2021-04-16T19:19:02.123721Z",
     "start_time": "2021-04-16T19:19:02.115381Z"
    }
   },
   "outputs": [],
   "source": [
    "batch_size = 62\n",
    "eval_batch_size = 62\n",
    "train_data = batchify(x[0:val], batch_size)\n",
    "val_data = batchify(x[val:], eval_batch_size)"
   ]
  },
  {
   "cell_type": "code",
   "execution_count": 19,
   "id": "8510490f",
   "metadata": {
    "ExecuteTime": {
     "end_time": "2021-04-16T19:19:02.133272Z",
     "start_time": "2021-04-16T19:19:02.126548Z"
    }
   },
   "outputs": [
    {
     "data": {
      "text/plain": [
       "tensor([[     0,   3017,      3,  ..., 211994, 217439, 222955],\n",
       "        [     1,   3017,   7712,  ..., 211995, 217440, 222955],\n",
       "        [     2,      3,   7713,  ..., 211996, 217441, 222956],\n",
       "        ...,\n",
       "        [  3014,   7709,  10514,  ..., 217436, 222952, 228373],\n",
       "        [  3015,   7711,      3,  ..., 217437, 222953, 228374],\n",
       "        [  3016,   7711,  10515,  ..., 217438, 222954,      9]])"
      ]
     },
     "execution_count": 19,
     "metadata": {},
     "output_type": "execute_result"
    }
   ],
   "source": [
    "train_data"
   ]
  },
  {
   "cell_type": "code",
   "execution_count": 20,
   "id": "f6ddf600",
   "metadata": {
    "ExecuteTime": {
     "end_time": "2021-04-16T19:19:02.140228Z",
     "start_time": "2021-04-16T19:19:02.136208Z"
    }
   },
   "outputs": [],
   "source": [
    "bptt = 35\n",
    "def get_batch(source, i):\n",
    "    seq_len = min(bptt, len(source) - 1 - i)\n",
    "    data = source[i:i+seq_len]\n",
    "    target = source[i+1:i+1+seq_len].reshape(-1)\n",
    "    return data, target"
   ]
  },
  {
   "cell_type": "code",
   "execution_count": 21,
   "id": "cbd67e5a",
   "metadata": {
    "ExecuteTime": {
     "end_time": "2021-04-16T19:19:04.193753Z",
     "start_time": "2021-04-16T19:19:02.143220Z"
    }
   },
   "outputs": [],
   "source": [
    "ntokens = len(word_token) # the size of vocabulary\n",
    "emsize = 200 # embedding dimension\n",
    "nhid = 200 # the dimension of the feedforward network model in nn.TransformerEncoder\n",
    "nlayers = 2 # the number of nn.TransformerEncoderLayer in nn.TransformerEncoder\n",
    "nhead = 2 # the number of heads in the multiheadattention models\n",
    "dropout = 0.2 # the dropout value\n",
    "model = TransformerModel(ntokens, emsize, nhead, nhid, nlayers, dropout).to(device)"
   ]
  },
  {
   "cell_type": "code",
   "execution_count": 22,
   "id": "717af51a",
   "metadata": {
    "ExecuteTime": {
     "end_time": "2021-04-16T19:19:04.212514Z",
     "start_time": "2021-04-16T19:19:04.200474Z"
    }
   },
   "outputs": [],
   "source": [
    "criterion = nn.CrossEntropyLoss()\n",
    "lr = 5.0 # learning rate\n",
    "optimizer = torch.optim.SGD(model.parameters(), lr=lr)\n",
    "scheduler = torch.optim.lr_scheduler.StepLR(optimizer, 1.0, gamma=0.95)\n",
    "\n",
    "\n",
    "def train():\n",
    "    model.train() # Turn on the train mode\n",
    "    total_loss = 0.\n",
    "    start_time = time.time()\n",
    "    src_mask = model.generate_square_subsequent_mask(bptt).to(device)\n",
    "    for batch, i in enumerate(range(0, train_data.size(0) - 1, bptt)):\n",
    "        data, targets = get_batch(train_data, i)\n",
    "        optimizer.zero_grad()\n",
    "        if data.size(0) != bptt:\n",
    "            src_mask = model.generate_square_subsequent_mask(data.size(0)).to(device)\n",
    "        output = model(data, src_mask)\n",
    "        loss = criterion(output.view(-1, ntokens), targets)\n",
    "        loss.backward()\n",
    "        torch.nn.utils.clip_grad_norm_(model.parameters(), 0.5)\n",
    "        optimizer.step()\n",
    "\n",
    "        total_loss += loss.item()\n",
    "        log_interval = 200\n",
    "        if batch % log_interval == 0 and batch > 0:\n",
    "            cur_loss = total_loss / log_interval\n",
    "            elapsed = time.time() - start_time\n",
    "            print('| epoch {:3d} | {:5d}/{:5d} batches | '\n",
    "                  'lr {:02.2f} | ms/batch {:5.2f} | '\n",
    "                  'loss {:5.2f} | ppl {:8.2f}'.format(\n",
    "                    epoch, batch, len(train_data) // bptt, scheduler.get_lr()[0],\n",
    "                    elapsed * 1000 / log_interval,\n",
    "                    cur_loss, math.exp(cur_loss)))\n",
    "            total_loss = 0\n",
    "            start_time = time.time()\n",
    "\n",
    "def evaluate(eval_model, data_source):\n",
    "    eval_model.eval() # Turn on the evaluation mode\n",
    "    total_loss = 0.\n",
    "    src_mask = model.generate_square_subsequent_mask(bptt).to(device)\n",
    "    with torch.no_grad():\n",
    "        for i in range(0, data_source.size(0) - 1, bptt):\n",
    "            data, targets = get_batch(data_source, i)\n",
    "            if data.size(0) != bptt:\n",
    "                src_mask = model.generate_square_subsequent_mask(data.size(0)).to(device)\n",
    "            output = eval_model(data, src_mask)\n",
    "            output_flat = output.view(-1, ntokens)\n",
    "            total_loss += len(data) * criterion(output_flat, targets).item()\n",
    "    return total_loss / (len(data_source) - 1)"
   ]
  },
  {
   "cell_type": "code",
   "execution_count": 23,
   "id": "f36b3e2b",
   "metadata": {
    "ExecuteTime": {
     "end_time": "2021-04-17T02:56:24.247931Z",
     "start_time": "2021-04-16T19:19:04.215225Z"
    }
   },
   "outputs": [
    {
     "name": "stdout",
     "output_type": "stream",
     "text": [
      "Starting the epoch\n"
     ]
    },
    {
     "name": "stderr",
     "output_type": "stream",
     "text": [
      "/Users/jobymacbookpro/opt/anaconda3/envs/new_Strive/lib/python3.8/site-packages/torch/optim/lr_scheduler.py:369: UserWarning: To get the last learning rate computed by the scheduler, please use `get_last_lr()`.\n",
      "  warnings.warn(\"To get the last learning rate computed by the scheduler, \"\n"
     ]
    },
    {
     "name": "stdout",
     "output_type": "stream",
     "text": [
      "| epoch   1 |   200/  217 batches | lr 5.00 | ms/batch 23429.49 | loss 10.26 | ppl 28469.18\n",
      "-----------------------------------------------------------------------------------------\n",
      "| end of epoch   1 | time: 5485.47s | valid loss 11.96 | valid ppl 157105.99\n",
      "-----------------------------------------------------------------------------------------\n",
      "Starting the epoch\n",
      "| epoch   2 |   200/  217 batches | lr 4.51 | ms/batch 23421.55 | loss  8.83 | ppl  6845.19\n",
      "-----------------------------------------------------------------------------------------\n",
      "| end of epoch   2 | time: 5479.73s | valid loss 11.77 | valid ppl 129461.37\n",
      "-----------------------------------------------------------------------------------------\n",
      "Starting the epoch\n",
      "| epoch   3 |   200/  217 batches | lr 4.29 | ms/batch 23264.01 | loss  8.73 | ppl  6205.02\n",
      "-----------------------------------------------------------------------------------------\n",
      "| end of epoch   3 | time: 5444.19s | valid loss 11.81 | valid ppl 133974.95\n",
      "-----------------------------------------------------------------------------------------\n",
      "Starting the epoch\n",
      "| epoch   4 |   200/  217 batches | lr 4.07 | ms/batch 23918.43 | loss  8.72 | ppl  6124.85\n",
      "-----------------------------------------------------------------------------------------\n",
      "| end of epoch   4 | time: 5584.03s | valid loss 11.78 | valid ppl 130787.34\n",
      "-----------------------------------------------------------------------------------------\n",
      "Starting the epoch\n",
      "| epoch   5 |   200/  217 batches | lr 3.87 | ms/batch 23220.28 | loss  8.71 | ppl  6087.90\n",
      "-----------------------------------------------------------------------------------------\n",
      "| end of epoch   5 | time: 5446.28s | valid loss 11.87 | valid ppl 143105.59\n",
      "-----------------------------------------------------------------------------------------\n"
     ]
    }
   ],
   "source": [
    "best_val_loss = float(\"inf\")\n",
    "epochs = 5 # The number of epochs\n",
    "best_model = None\n",
    "\n",
    "for epoch in range(1, epochs + 1):\n",
    "    print(\"Starting the epoch\")\n",
    "    epoch_start_time = time.time()\n",
    "    train()\n",
    "    val_loss = evaluate(model, val_data)\n",
    "    print('-' * 89)\n",
    "    print('| end of epoch {:3d} | time: {:5.2f}s | valid loss {:5.2f} | '\n",
    "          'valid ppl {:8.2f}'.format(epoch, (time.time() - epoch_start_time),\n",
    "                                     val_loss, math.exp(val_loss)))\n",
    "    print('-' * 89)\n",
    "\n",
    "    if val_loss < best_val_loss:\n",
    "        best_val_loss = val_loss\n",
    "        best_model = model\n",
    "\n",
    "    scheduler.step()"
   ]
  },
  {
   "cell_type": "code",
   "execution_count": 24,
   "id": "4c09528c",
   "metadata": {
    "ExecuteTime": {
     "end_time": "2021-04-17T02:56:27.219436Z",
     "start_time": "2021-04-17T02:56:24.339696Z"
    }
   },
   "outputs": [],
   "source": [
    "torch.save(model, \"mon_mod.pth\")"
   ]
  }
 ],
 "metadata": {
  "kernelspec": {
   "display_name": "Python 3",
   "language": "python",
   "name": "python3"
  },
  "language_info": {
   "codemirror_mode": {
    "name": "ipython",
    "version": 3
   },
   "file_extension": ".py",
   "mimetype": "text/x-python",
   "name": "python",
   "nbconvert_exporter": "python",
   "pygments_lexer": "ipython3",
   "version": "3.8.2"
  }
 },
 "nbformat": 4,
 "nbformat_minor": 5
}
