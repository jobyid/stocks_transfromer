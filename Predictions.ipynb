{
 "cells": [
  {
   "cell_type": "code",
   "execution_count": 1,
   "id": "f0458c80",
   "metadata": {
    "ExecuteTime": {
     "end_time": "2021-04-17T18:38:45.092755Z",
     "start_time": "2021-04-17T18:38:42.135674Z"
    }
   },
   "outputs": [],
   "source": [
    "import pandas as pd \n",
    "import numpy as np \n",
    "import pickle\n",
    "import re "
   ]
  },
  {
   "cell_type": "code",
   "execution_count": 5,
   "id": "93439278",
   "metadata": {
    "ExecuteTime": {
     "end_time": "2021-04-17T18:43:42.384476Z",
     "start_time": "2021-04-17T18:43:42.183895Z"
    }
   },
   "outputs": [
    {
     "data": {
      "text/plain": [
       "(4, 'Jan 03, 1984')"
      ]
     },
     "execution_count": 5,
     "metadata": {},
     "output_type": "execute_result"
    }
   ],
   "source": [
    "word_token = {}\n",
    "with open('word_token.pkl', 'rb') as file:\n",
    "    # Call load method to deserialze\n",
    "    word_token = pickle.load(file)\n",
    "\n",
    "token_word = {}\n",
    "with open('token_word.pkl', 'rb') as file:\n",
    "    token_word = pickle.load(file)\n",
    "\n",
    "word_token[\"up\"], token_word[0]"
   ]
  },
  {
   "cell_type": "code",
   "execution_count": 6,
   "id": "62bfd0c2",
   "metadata": {
    "ExecuteTime": {
     "end_time": "2021-04-17T18:48:27.917051Z",
     "start_time": "2021-04-17T18:48:27.811579Z"
    }
   },
   "outputs": [
    {
     "data": {
      "text/html": [
       "<div>\n",
       "<style scoped>\n",
       "    .dataframe tbody tr th:only-of-type {\n",
       "        vertical-align: middle;\n",
       "    }\n",
       "\n",
       "    .dataframe tbody tr th {\n",
       "        vertical-align: top;\n",
       "    }\n",
       "\n",
       "    .dataframe thead th {\n",
       "        text-align: right;\n",
       "    }\n",
       "</style>\n",
       "<table border=\"1\" class=\"dataframe\">\n",
       "  <thead>\n",
       "    <tr style=\"text-align: right;\">\n",
       "      <th></th>\n",
       "      <th>Date</th>\n",
       "      <th>Open</th>\n",
       "      <th>High</th>\n",
       "      <th>Low</th>\n",
       "      <th>Close_</th>\n",
       "      <th>AdjClose__</th>\n",
       "      <th>Volume</th>\n",
       "    </tr>\n",
       "  </thead>\n",
       "  <tbody>\n",
       "    <tr>\n",
       "      <th>71</th>\n",
       "      <td>Jan 04, 2021</td>\n",
       "      <td>6,460.50</td>\n",
       "      <td>6,662.70</td>\n",
       "      <td>6,460.50</td>\n",
       "      <td>6,571.90</td>\n",
       "      <td>6,571.90</td>\n",
       "      <td>965,097,800</td>\n",
       "    </tr>\n",
       "    <tr>\n",
       "      <th>70</th>\n",
       "      <td>Jan 05, 2021</td>\n",
       "      <td>6,571.90</td>\n",
       "      <td>6,622.80</td>\n",
       "      <td>6,544.30</td>\n",
       "      <td>6,612.30</td>\n",
       "      <td>6,612.30</td>\n",
       "      <td>718,950,800</td>\n",
       "    </tr>\n",
       "    <tr>\n",
       "      <th>69</th>\n",
       "      <td>Jan 06, 2021</td>\n",
       "      <td>6,612.30</td>\n",
       "      <td>6,859.10</td>\n",
       "      <td>6,611.90</td>\n",
       "      <td>6,841.90</td>\n",
       "      <td>6,841.90</td>\n",
       "      <td>1,249,709,500</td>\n",
       "    </tr>\n",
       "    <tr>\n",
       "      <th>68</th>\n",
       "      <td>Jan 07, 2021</td>\n",
       "      <td>6,841.90</td>\n",
       "      <td>6,903.60</td>\n",
       "      <td>6,795.10</td>\n",
       "      <td>6,857.00</td>\n",
       "      <td>6,857.00</td>\n",
       "      <td>939,652,600</td>\n",
       "    </tr>\n",
       "    <tr>\n",
       "      <th>67</th>\n",
       "      <td>Jan 08, 2021</td>\n",
       "      <td>6,857.00</td>\n",
       "      <td>6,886.30</td>\n",
       "      <td>6,836.10</td>\n",
       "      <td>6,873.30</td>\n",
       "      <td>6,873.30</td>\n",
       "      <td>850,778,500</td>\n",
       "    </tr>\n",
       "  </tbody>\n",
       "</table>\n",
       "</div>"
      ],
      "text/plain": [
       "            Date      Open      High       Low    Close_ AdjClose__  \\\n",
       "71  Jan 04, 2021  6,460.50  6,662.70  6,460.50  6,571.90   6,571.90   \n",
       "70  Jan 05, 2021  6,571.90  6,622.80  6,544.30  6,612.30   6,612.30   \n",
       "69  Jan 06, 2021  6,612.30  6,859.10  6,611.90  6,841.90   6,841.90   \n",
       "68  Jan 07, 2021  6,841.90  6,903.60  6,795.10  6,857.00   6,857.00   \n",
       "67  Jan 08, 2021  6,857.00  6,886.30  6,836.10  6,873.30   6,873.30   \n",
       "\n",
       "           Volume  \n",
       "71    965,097,800  \n",
       "70    718,950,800  \n",
       "69  1,249,709,500  \n",
       "68    939,652,600  \n",
       "67    850,778,500  "
      ]
     },
     "execution_count": 6,
     "metadata": {},
     "output_type": "execute_result"
    }
   ],
   "source": [
    "df = pd.read_csv(\"Ftse100janapr21.csv\")\n",
    "df = df.reindex(index=df.index[::-1])\n",
    "columns = df.columns\n",
    "df.head()"
   ]
  },
  {
   "cell_type": "code",
   "execution_count": 7,
   "id": "bce36ee1",
   "metadata": {
    "ExecuteTime": {
     "end_time": "2021-04-17T18:48:29.107793Z",
     "start_time": "2021-04-17T18:48:29.098272Z"
    }
   },
   "outputs": [],
   "source": [
    "# convert all the values from strings to floats. \n",
    "def string_to_float(x):\n",
    "    if x is not np.nan:\n",
    "        x = re.sub(\",\", \"\",x)\n",
    "        x = float(x)\n",
    "    else:\n",
    "        x = 0 \n",
    "    return x\n",
    "\n",
    "for col in columns:\n",
    "    if col != \"Date\":\n",
    "        df[col] = df[col].apply(lambda x: string_to_float(str(x)))\n",
    "\n"
   ]
  },
  {
   "cell_type": "code",
   "execution_count": null,
   "id": "556ca552",
   "metadata": {
    "ExecuteTime": {
     "end_time": "2021-04-16T07:52:50.593574Z",
     "start_time": "2021-04-16T07:52:50.582733Z"
    }
   },
   "outputs": [],
   "source": []
  },
  {
   "cell_type": "code",
   "execution_count": 8,
   "id": "27557baf",
   "metadata": {
    "ExecuteTime": {
     "end_time": "2021-04-17T18:48:31.679090Z",
     "start_time": "2021-04-17T18:48:31.673996Z"
    }
   },
   "outputs": [],
   "source": [
    "def add_moving_average(term, exp=False):\n",
    "    for col in columns:\n",
    "        if col != \"Date\" and col != \"target\":\n",
    "            if exp:\n",
    "                col_name = col + str(term) + \"day\" + \"_exp\"\n",
    "                df[col_name] = df[col].rolling(window=term, win_type='triang').mean()\n",
    "            else: \n",
    "                col_name = col + str(term) + \"day\"\n",
    "                df[col_name] = df[col].rolling(window=term).mean()"
   ]
  },
  {
   "cell_type": "code",
   "execution_count": 9,
   "id": "c71dc1b7",
   "metadata": {
    "ExecuteTime": {
     "end_time": "2021-04-17T18:48:32.693812Z",
     "start_time": "2021-04-17T18:48:32.690443Z"
    }
   },
   "outputs": [],
   "source": [
    "flat_averages = [10,32,45,78,101]\n",
    "exp_averages  = [3,12,48,112]"
   ]
  },
  {
   "cell_type": "code",
   "execution_count": 10,
   "id": "59a8097f",
   "metadata": {
    "ExecuteTime": {
     "end_time": "2021-04-17T18:48:36.066753Z",
     "start_time": "2021-04-17T18:48:33.665199Z"
    }
   },
   "outputs": [],
   "source": [
    "for x in flat_averages: \n",
    "    add_moving_average(x)\n",
    "for x in exp_averages:\n",
    "    add_moving_average(x, exp=True)"
   ]
  },
  {
   "cell_type": "code",
   "execution_count": 11,
   "id": "3c41e950",
   "metadata": {
    "ExecuteTime": {
     "end_time": "2021-04-17T18:48:36.074035Z",
     "start_time": "2021-04-17T18:48:36.069301Z"
    }
   },
   "outputs": [],
   "source": [
    "df[\"target\"] = df[\"Close_\"].shift(1)"
   ]
  },
  {
   "cell_type": "code",
   "execution_count": 12,
   "id": "0c144ec9",
   "metadata": {
    "ExecuteTime": {
     "end_time": "2021-04-17T18:48:36.087580Z",
     "start_time": "2021-04-17T18:48:36.077552Z"
    }
   },
   "outputs": [],
   "source": [
    "def word_target(x):\n",
    "    y = \"up\"\n",
    "    if x['Close_'] > x[\"target\"]:\n",
    "        y = \"down\"  \n",
    "    return y \n",
    "df[\"wordT\"] = df.apply(lambda x: word_target(x), axis=1)"
   ]
  },
  {
   "cell_type": "code",
   "execution_count": 27,
   "id": "f551cd7f",
   "metadata": {
    "ExecuteTime": {
     "end_time": "2021-04-17T19:04:18.115274Z",
     "start_time": "2021-04-17T19:04:18.091734Z"
    }
   },
   "outputs": [
    {
     "data": {
      "text/html": [
       "<div>\n",
       "<style scoped>\n",
       "    .dataframe tbody tr th:only-of-type {\n",
       "        vertical-align: middle;\n",
       "    }\n",
       "\n",
       "    .dataframe tbody tr th {\n",
       "        vertical-align: top;\n",
       "    }\n",
       "\n",
       "    .dataframe thead th {\n",
       "        text-align: right;\n",
       "    }\n",
       "</style>\n",
       "<table border=\"1\" class=\"dataframe\">\n",
       "  <thead>\n",
       "    <tr style=\"text-align: right;\">\n",
       "      <th></th>\n",
       "      <th>Date</th>\n",
       "      <th>Open</th>\n",
       "      <th>High</th>\n",
       "      <th>Low</th>\n",
       "      <th>Close_</th>\n",
       "      <th>AdjClose__</th>\n",
       "      <th>Volume</th>\n",
       "      <th>Open10day</th>\n",
       "      <th>High10day</th>\n",
       "      <th>Low10day</th>\n",
       "      <th>...</th>\n",
       "      <th>AdjClose__48day_exp</th>\n",
       "      <th>Volume48day_exp</th>\n",
       "      <th>Open112day_exp</th>\n",
       "      <th>High112day_exp</th>\n",
       "      <th>Low112day_exp</th>\n",
       "      <th>Close_112day_exp</th>\n",
       "      <th>AdjClose__112day_exp</th>\n",
       "      <th>Volume112day_exp</th>\n",
       "      <th>target</th>\n",
       "      <th>wordT</th>\n",
       "    </tr>\n",
       "  </thead>\n",
       "  <tbody>\n",
       "    <tr>\n",
       "      <th>71</th>\n",
       "      <td>Jan 04, 2021</td>\n",
       "      <td>6460.5</td>\n",
       "      <td>6662.7</td>\n",
       "      <td>6460.5</td>\n",
       "      <td>6571.9</td>\n",
       "      <td>6571.9</td>\n",
       "      <td>9.650978e+08</td>\n",
       "      <td>NaN</td>\n",
       "      <td>NaN</td>\n",
       "      <td>NaN</td>\n",
       "      <td>...</td>\n",
       "      <td>NaN</td>\n",
       "      <td>NaN</td>\n",
       "      <td>NaN</td>\n",
       "      <td>NaN</td>\n",
       "      <td>NaN</td>\n",
       "      <td>NaN</td>\n",
       "      <td>NaN</td>\n",
       "      <td>NaN</td>\n",
       "      <td>NaN</td>\n",
       "      <td>up</td>\n",
       "    </tr>\n",
       "    <tr>\n",
       "      <th>70</th>\n",
       "      <td>Jan 05, 2021</td>\n",
       "      <td>6571.9</td>\n",
       "      <td>6622.8</td>\n",
       "      <td>6544.3</td>\n",
       "      <td>6612.3</td>\n",
       "      <td>6612.3</td>\n",
       "      <td>7.189508e+08</td>\n",
       "      <td>NaN</td>\n",
       "      <td>NaN</td>\n",
       "      <td>NaN</td>\n",
       "      <td>...</td>\n",
       "      <td>NaN</td>\n",
       "      <td>NaN</td>\n",
       "      <td>NaN</td>\n",
       "      <td>NaN</td>\n",
       "      <td>NaN</td>\n",
       "      <td>NaN</td>\n",
       "      <td>NaN</td>\n",
       "      <td>NaN</td>\n",
       "      <td>6571.9</td>\n",
       "      <td>down</td>\n",
       "    </tr>\n",
       "    <tr>\n",
       "      <th>69</th>\n",
       "      <td>Jan 06, 2021</td>\n",
       "      <td>6612.3</td>\n",
       "      <td>6859.1</td>\n",
       "      <td>6611.9</td>\n",
       "      <td>6841.9</td>\n",
       "      <td>6841.9</td>\n",
       "      <td>1.249710e+09</td>\n",
       "      <td>NaN</td>\n",
       "      <td>NaN</td>\n",
       "      <td>NaN</td>\n",
       "      <td>...</td>\n",
       "      <td>NaN</td>\n",
       "      <td>NaN</td>\n",
       "      <td>NaN</td>\n",
       "      <td>NaN</td>\n",
       "      <td>NaN</td>\n",
       "      <td>NaN</td>\n",
       "      <td>NaN</td>\n",
       "      <td>NaN</td>\n",
       "      <td>6612.3</td>\n",
       "      <td>down</td>\n",
       "    </tr>\n",
       "    <tr>\n",
       "      <th>68</th>\n",
       "      <td>Jan 07, 2021</td>\n",
       "      <td>6841.9</td>\n",
       "      <td>6903.6</td>\n",
       "      <td>6795.1</td>\n",
       "      <td>6857.0</td>\n",
       "      <td>6857.0</td>\n",
       "      <td>9.396526e+08</td>\n",
       "      <td>NaN</td>\n",
       "      <td>NaN</td>\n",
       "      <td>NaN</td>\n",
       "      <td>...</td>\n",
       "      <td>NaN</td>\n",
       "      <td>NaN</td>\n",
       "      <td>NaN</td>\n",
       "      <td>NaN</td>\n",
       "      <td>NaN</td>\n",
       "      <td>NaN</td>\n",
       "      <td>NaN</td>\n",
       "      <td>NaN</td>\n",
       "      <td>6841.9</td>\n",
       "      <td>down</td>\n",
       "    </tr>\n",
       "    <tr>\n",
       "      <th>67</th>\n",
       "      <td>Jan 08, 2021</td>\n",
       "      <td>6857.0</td>\n",
       "      <td>6886.3</td>\n",
       "      <td>6836.1</td>\n",
       "      <td>6873.3</td>\n",
       "      <td>6873.3</td>\n",
       "      <td>8.507785e+08</td>\n",
       "      <td>NaN</td>\n",
       "      <td>NaN</td>\n",
       "      <td>NaN</td>\n",
       "      <td>...</td>\n",
       "      <td>NaN</td>\n",
       "      <td>NaN</td>\n",
       "      <td>NaN</td>\n",
       "      <td>NaN</td>\n",
       "      <td>NaN</td>\n",
       "      <td>NaN</td>\n",
       "      <td>NaN</td>\n",
       "      <td>NaN</td>\n",
       "      <td>6857.0</td>\n",
       "      <td>down</td>\n",
       "    </tr>\n",
       "  </tbody>\n",
       "</table>\n",
       "<p>5 rows × 63 columns</p>\n",
       "</div>"
      ],
      "text/plain": [
       "            Date    Open    High     Low  Close_  AdjClose__        Volume  \\\n",
       "71  Jan 04, 2021  6460.5  6662.7  6460.5  6571.9      6571.9  9.650978e+08   \n",
       "70  Jan 05, 2021  6571.9  6622.8  6544.3  6612.3      6612.3  7.189508e+08   \n",
       "69  Jan 06, 2021  6612.3  6859.1  6611.9  6841.9      6841.9  1.249710e+09   \n",
       "68  Jan 07, 2021  6841.9  6903.6  6795.1  6857.0      6857.0  9.396526e+08   \n",
       "67  Jan 08, 2021  6857.0  6886.3  6836.1  6873.3      6873.3  8.507785e+08   \n",
       "\n",
       "    Open10day  High10day  Low10day  ...  AdjClose__48day_exp  Volume48day_exp  \\\n",
       "71        NaN        NaN       NaN  ...                  NaN              NaN   \n",
       "70        NaN        NaN       NaN  ...                  NaN              NaN   \n",
       "69        NaN        NaN       NaN  ...                  NaN              NaN   \n",
       "68        NaN        NaN       NaN  ...                  NaN              NaN   \n",
       "67        NaN        NaN       NaN  ...                  NaN              NaN   \n",
       "\n",
       "    Open112day_exp  High112day_exp  Low112day_exp  Close_112day_exp  \\\n",
       "71             NaN             NaN            NaN               NaN   \n",
       "70             NaN             NaN            NaN               NaN   \n",
       "69             NaN             NaN            NaN               NaN   \n",
       "68             NaN             NaN            NaN               NaN   \n",
       "67             NaN             NaN            NaN               NaN   \n",
       "\n",
       "    AdjClose__112day_exp  Volume112day_exp  target  wordT  \n",
       "71                   NaN               NaN     NaN     up  \n",
       "70                   NaN               NaN  6571.9   down  \n",
       "69                   NaN               NaN  6612.3   down  \n",
       "68                   NaN               NaN  6841.9   down  \n",
       "67                   NaN               NaN  6857.0   down  \n",
       "\n",
       "[5 rows x 63 columns]"
      ]
     },
     "execution_count": 27,
     "metadata": {},
     "output_type": "execute_result"
    }
   ],
   "source": [
    "df.head()"
   ]
  },
  {
   "cell_type": "code",
   "execution_count": 14,
   "id": "bab90da0",
   "metadata": {
    "ExecuteTime": {
     "end_time": "2021-04-17T18:52:25.095622Z",
     "start_time": "2021-04-17T18:52:25.092644Z"
    }
   },
   "outputs": [],
   "source": [
    "pred_strings = {}"
   ]
  },
  {
   "cell_type": "code",
   "execution_count": 15,
   "id": "4f15f391",
   "metadata": {
    "ExecuteTime": {
     "end_time": "2021-04-17T18:52:25.864623Z",
     "start_time": "2021-04-17T18:52:25.859929Z"
    }
   },
   "outputs": [],
   "source": [
    "def add_to_string(y,x):\n",
    "    global pred_strings\n",
    "    if y in pred_strings.keys():\n",
    "        if x == \"\\n\":\n",
    "            pred_strings[y] += x \n",
    "        else:\n",
    "            x = str(x) + \" ; \"\n",
    "            pred_strings[y] += x\n",
    "    else:\n",
    "        x = str(x) + \" ; \"\n",
    "        pred_strings[y] = x"
   ]
  },
  {
   "cell_type": "code",
   "execution_count": 17,
   "id": "ea49b1b8",
   "metadata": {
    "ExecuteTime": {
     "end_time": "2021-04-17T18:52:37.858576Z",
     "start_time": "2021-04-17T18:52:37.810388Z"
    }
   },
   "outputs": [],
   "source": [
    "for i, row in df.iterrows():\n",
    "    for col in df.columns:\n",
    "        if col != \"target\" and col != \"wordT\":\n",
    "            add_to_string(i,row[col])\n",
    "    add_to_string(i,\"\\n\")\n"
   ]
  },
  {
   "cell_type": "code",
   "execution_count": 18,
   "id": "f9627107",
   "metadata": {
    "ExecuteTime": {
     "end_time": "2021-04-17T18:52:40.456722Z",
     "start_time": "2021-04-17T18:52:40.452287Z"
    }
   },
   "outputs": [
    {
     "data": {
      "text/plain": [
       "'Apr 15, 2021 ; 6939.6 ; 6994.9 ; 6939.3 ; 6983.5 ; 6983.5 ; 651402900.0 ; 6850.910000000001 ; 6892.449999999995 ; 6831.279999999997 ; 6872.05 ; 6872.05 ; 679724300.0 ; 6747.481250000002 ; 6789.518749999998 ; 6713.328124999998 ; 6763.109375000002 ; 6763.109375000002 ; 747430240.625 ; 6713.33555555555 ; 6755.868888888888 ; 6673.604444444443 ; 6723.377777777771 ; 6723.377777777771 ; 785870631.1111112 ; nan ; nan ; nan ; nan ; nan ; nan ; nan ; nan ; nan ; nan ; nan ; nan ; 6902.424999999999 ; 6943.65 ; 6890.099999999999 ; 6938.3 ; 6938.3 ; 604385650.0 ; 6835.909722222224 ; 6881.606944444445 ; 6818.045833333335 ; 6861.350000000002 ; 6861.350000000002 ; 692086811.1111112 ; 6696.752083333335 ; 6738.457031250002 ; 6653.1165798611155 ; 6703.794097222225 ; 6703.794097222225 ; 805093230.2951391 ; nan ; nan ; nan ; nan ; nan ; nan ; \\n'"
      ]
     },
     "execution_count": 18,
     "metadata": {},
     "output_type": "execute_result"
    }
   ],
   "source": [
    "pred_strings[0]"
   ]
  },
  {
   "cell_type": "code",
   "execution_count": 19,
   "id": "73de4897",
   "metadata": {
    "ExecuteTime": {
     "end_time": "2021-04-17T18:56:44.866919Z",
     "start_time": "2021-04-17T18:56:44.854685Z"
    }
   },
   "outputs": [
    {
     "data": {
      "text/plain": [
       "306997"
      ]
     },
     "execution_count": 19,
     "metadata": {},
     "output_type": "execute_result"
    }
   ],
   "source": [
    "pred_sentance_tokens = {}\n",
    "token = max(token_word.keys())\n",
    "token"
   ]
  },
  {
   "cell_type": "code",
   "execution_count": 22,
   "id": "8cbf3852",
   "metadata": {
    "ExecuteTime": {
     "end_time": "2021-04-17T18:59:24.534908Z",
     "start_time": "2021-04-17T18:59:24.528154Z"
    }
   },
   "outputs": [],
   "source": [
    "for k in pred_strings.keys():\n",
    "    s = pred_strings[k].split(\";\")\n",
    "    st = []\n",
    "    for x in s:\n",
    "        if x in word_token.keys():\n",
    "            st.append(word_token[x])\n",
    "        else:\n",
    "            st.append(token)\n",
    "            token += 1 \n",
    "    pred_sentance_tokens[k] = st"
   ]
  },
  {
   "cell_type": "code",
   "execution_count": 29,
   "id": "528d08e0",
   "metadata": {
    "ExecuteTime": {
     "end_time": "2021-04-17T19:05:25.352867Z",
     "start_time": "2021-04-17T19:05:25.347190Z"
    }
   },
   "outputs": [
    {
     "data": {
      "text/plain": [
       "([307059,\n",
       "  307060,\n",
       "  307061,\n",
       "  307062,\n",
       "  307063,\n",
       "  307064,\n",
       "  307065,\n",
       "  307066,\n",
       "  307067,\n",
       "  307068,\n",
       "  307069,\n",
       "  307070,\n",
       "  307071,\n",
       "  307072,\n",
       "  307073,\n",
       "  307074,\n",
       "  307075,\n",
       "  307076,\n",
       "  307077,\n",
       "  307078,\n",
       "  307079,\n",
       "  307080,\n",
       "  307081,\n",
       "  307082,\n",
       "  307083,\n",
       "  307084,\n",
       "  307085,\n",
       "  307086,\n",
       "  307087,\n",
       "  307088,\n",
       "  307089,\n",
       "  307090,\n",
       "  307091,\n",
       "  307092,\n",
       "  307093,\n",
       "  307094,\n",
       "  307095,\n",
       "  307096,\n",
       "  307097,\n",
       "  307098,\n",
       "  307099,\n",
       "  307100,\n",
       "  307101,\n",
       "  307102,\n",
       "  307103,\n",
       "  307104,\n",
       "  307105,\n",
       "  307106,\n",
       "  307107,\n",
       "  307108,\n",
       "  307109,\n",
       "  307110,\n",
       "  307111,\n",
       "  307112,\n",
       "  307113,\n",
       "  307114,\n",
       "  307115,\n",
       "  307116,\n",
       "  307117,\n",
       "  307118,\n",
       "  307119,\n",
       "  307120],\n",
       " 311461)"
      ]
     },
     "execution_count": 29,
     "metadata": {},
     "output_type": "execute_result"
    }
   ],
   "source": [
    "pred_sentance_tokens[70], token"
   ]
  },
  {
   "cell_type": "code",
   "execution_count": null,
   "id": "7743b522",
   "metadata": {},
   "outputs": [],
   "source": []
  }
 ],
 "metadata": {
  "kernelspec": {
   "display_name": "Python 3",
   "language": "python",
   "name": "python3"
  },
  "language_info": {
   "codemirror_mode": {
    "name": "ipython",
    "version": 3
   },
   "file_extension": ".py",
   "mimetype": "text/x-python",
   "name": "python",
   "nbconvert_exporter": "python",
   "pygments_lexer": "ipython3",
   "version": "3.8.2"
  }
 },
 "nbformat": 4,
 "nbformat_minor": 5
}
