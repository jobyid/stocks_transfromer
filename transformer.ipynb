{
 "cells": [
  {
   "cell_type": "code",
   "execution_count": 1,
   "id": "96379ed9",
   "metadata": {
    "ExecuteTime": {
     "end_time": "2021-04-08T18:35:40.544441Z",
     "start_time": "2021-04-08T18:35:38.117213Z"
    }
   },
   "outputs": [],
   "source": [
    "import spacy as sp \n",
    "import torch \n",
    "import torch.nn as nn\n",
    "import torch.functional as f \n",
    "from torch.nn import TransformerEncoder, TransformerEncoderLayer\n",
    "import math\n",
    "import time\n",
    "import os\n",
    "os.environ['KMP_DUPLICATE_LIB_OK']='True'"
   ]
  },
  {
   "cell_type": "markdown",
   "id": "1e19b761",
   "metadata": {},
   "source": [
    "Now we have a string from the other workbook we can tokenise it.   \n"
   ]
  },
  {
   "cell_type": "code",
   "execution_count": 2,
   "id": "feec2e5a",
   "metadata": {
    "ExecuteTime": {
     "end_time": "2021-04-08T18:35:40.553432Z",
     "start_time": "2021-04-08T18:35:40.550538Z"
    }
   },
   "outputs": [],
   "source": [
    "text = open('stock_text.txt','r')"
   ]
  },
  {
   "cell_type": "code",
   "execution_count": 3,
   "id": "4b5e7950",
   "metadata": {
    "ExecuteTime": {
     "end_time": "2021-04-08T18:35:40.567662Z",
     "start_time": "2021-04-08T18:35:40.556707Z"
    }
   },
   "outputs": [],
   "source": [
    "str = text.read()"
   ]
  },
  {
   "cell_type": "code",
   "execution_count": 4,
   "id": "2aa2b91b",
   "metadata": {
    "ExecuteTime": {
     "end_time": "2021-04-08T18:35:40.571889Z",
     "start_time": "2021-04-08T18:35:40.569779Z"
    }
   },
   "outputs": [],
   "source": [
    "#nlp = sp.load('en_core_web_sm')\n",
    "#nlp.max_length = 8270369"
   ]
  },
  {
   "cell_type": "code",
   "execution_count": 5,
   "id": "dd1b485d",
   "metadata": {
    "ExecuteTime": {
     "end_time": "2021-04-08T18:35:40.576970Z",
     "start_time": "2021-04-08T18:35:40.574384Z"
    }
   },
   "outputs": [],
   "source": [
    "#doc = nlp(str)"
   ]
  },
  {
   "cell_type": "code",
   "execution_count": 6,
   "id": "65c8e2a8",
   "metadata": {
    "ExecuteTime": {
     "end_time": "2021-04-08T18:35:40.582065Z",
     "start_time": "2021-04-08T18:35:40.579713Z"
    }
   },
   "outputs": [],
   "source": [
    "#words = [word.text for word in doc]\n",
    "#print(words)"
   ]
  },
  {
   "cell_type": "code",
   "execution_count": 7,
   "id": "48403327",
   "metadata": {
    "ExecuteTime": {
     "end_time": "2021-04-08T18:35:40.589509Z",
     "start_time": "2021-04-08T18:35:40.586730Z"
    }
   },
   "outputs": [],
   "source": [
    "word_token = {}\n",
    "token_word = {}"
   ]
  },
  {
   "cell_type": "code",
   "execution_count": 8,
   "id": "543670b6",
   "metadata": {
    "ExecuteTime": {
     "end_time": "2021-04-08T18:35:40.651550Z",
     "start_time": "2021-04-08T18:35:40.594275Z"
    }
   },
   "outputs": [],
   "source": [
    "str_split = str.split(\" ; \")"
   ]
  },
  {
   "cell_type": "code",
   "execution_count": 9,
   "id": "5f4c4f74",
   "metadata": {
    "ExecuteTime": {
     "end_time": "2021-04-08T18:35:40.949248Z",
     "start_time": "2021-04-08T18:35:40.654278Z"
    }
   },
   "outputs": [],
   "source": [
    "token = 0\n",
    "for s in str_split:\n",
    "    s = s.strip(\"\\n\")\n",
    "    if s not in word_token.keys():\n",
    "        word_token[s] = token\n",
    "        token += 1 "
   ]
  },
  {
   "cell_type": "code",
   "execution_count": 10,
   "id": "8c0d2d23",
   "metadata": {
    "ExecuteTime": {
     "end_time": "2021-04-08T18:35:41.066522Z",
     "start_time": "2021-04-08T18:35:40.951419Z"
    }
   },
   "outputs": [],
   "source": [
    "for k in word_token.keys():\n",
    "    t = word_token[k]\n",
    "    token_word[t] = k "
   ]
  },
  {
   "cell_type": "code",
   "execution_count": 11,
   "id": "0b625a52",
   "metadata": {
    "ExecuteTime": {
     "end_time": "2021-04-08T18:35:41.332064Z",
     "start_time": "2021-04-08T18:35:41.068570Z"
    }
   },
   "outputs": [
    {
     "data": {
      "text/plain": [
       "590241"
      ]
     },
     "execution_count": 11,
     "metadata": {},
     "output_type": "execute_result"
    }
   ],
   "source": [
    "#306996\n",
    "input_list = []\n",
    "for s in str_split:\n",
    "    s = s.strip(\"\\n\")\n",
    "    x = word_token[s]\n",
    "    input_list.append(x)\n",
    "len(input_list)"
   ]
  },
  {
   "cell_type": "code",
   "execution_count": 12,
   "id": "5b80b8d7",
   "metadata": {
    "ExecuteTime": {
     "end_time": "2021-04-08T18:35:41.344904Z",
     "start_time": "2021-04-08T18:35:41.335095Z"
    }
   },
   "outputs": [],
   "source": [
    "class TransformerModel(nn.Module):\n",
    "    def __init__(self,ntoken, ninp, nhead, nhid, nlayers, dropout=0.5):\n",
    "        super(TransformerModel, self).__init__()\n",
    "        self.model_type = \"Transformer\"\n",
    "        self.pos_encoder = PositionalEncoding(ninp, dropout)\n",
    "        encoder_layers = TransformerEncoderLayer(ninp, nhead, nhid, dropout)\n",
    "        self.transformer_encoder = TransformerEncoder(encoder_layers, nlayers)\n",
    "        self.encoder = nn.Embedding(ntoken, ninp)\n",
    "        self.ninp = ninp\n",
    "        self.decoder = nn.Linear(ninp, ntoken)\n",
    "        \n",
    "        self.init_weights()\n",
    "        \n",
    "    def generate_square_subsequent_mask(self, sz):\n",
    "        mask = (torch.triu(torch.ones(sz,sz))==1).transpose(0,1)\n",
    "        mask = mask.float().masked_fill(mask == 0, float(\"-inf\")).masked_fill(mask==1, float(0.0))\n",
    "        return mask\n",
    "\n",
    "    def init_weights(self):\n",
    "        initrange = 0.1\n",
    "        self.encoder.weight.data.uniform_(-initrange, initrange)\n",
    "        self.decoder.bias.data.zero_()\n",
    "        self.decoder.weight.data.uniform_(-initrange, initrange)\n",
    "\n",
    "    def forward(self, src, src_mask):\n",
    "        src = self.encoder(src) * math.sqrt(self.ninp)\n",
    "        src = self.pos_encoder(src)\n",
    "        output = self.transformer_encoder(src, src_mask)\n",
    "        output = self.decoder(output)\n",
    "        return output"
   ]
  },
  {
   "cell_type": "code",
   "execution_count": 13,
   "id": "2349688b",
   "metadata": {
    "ExecuteTime": {
     "end_time": "2021-04-08T18:35:41.354160Z",
     "start_time": "2021-04-08T18:35:41.347934Z"
    }
   },
   "outputs": [],
   "source": [
    "class PositionalEncoding(nn.Module):\n",
    "\n",
    "    def __init__(self, d_model, dropout=0.1, max_len=5000):\n",
    "        super(PositionalEncoding, self).__init__()\n",
    "        self.dropout = nn.Dropout(p=dropout)\n",
    "\n",
    "        pe = torch.zeros(max_len, d_model)\n",
    "        position = torch.arange(0, max_len, dtype=torch.float).unsqueeze(1)\n",
    "        div_term = torch.exp(torch.arange(0, d_model, 2).float() * (-math.log(10000.0) / d_model))\n",
    "        pe[:, 0::2] = torch.sin(position * div_term)\n",
    "        pe[:, 1::2] = torch.cos(position * div_term)\n",
    "        pe = pe.unsqueeze(0).transpose(0, 1)\n",
    "        self.register_buffer('pe', pe)\n",
    "\n",
    "    def forward(self, x):\n",
    "        x = x + self.pe[:x.size(0), :]\n",
    "        return self.dropout(x)"
   ]
  },
  {
   "cell_type": "code",
   "execution_count": 14,
   "id": "1400a4d5",
   "metadata": {
    "ExecuteTime": {
     "end_time": "2021-04-08T18:35:41.359307Z",
     "start_time": "2021-04-08T18:35:41.356752Z"
    }
   },
   "outputs": [],
   "source": [
    "def data_process(raw_text_iter):\n",
    "  data = torch.tensor(raw_text_iter)\n",
    "  return data #torch.cat(tuple(filter(lambda t: t.numel() > 0, data)))"
   ]
  },
  {
   "cell_type": "code",
   "execution_count": 15,
   "id": "1cb65dc4",
   "metadata": {
    "ExecuteTime": {
     "end_time": "2021-04-08T18:35:41.393488Z",
     "start_time": "2021-04-08T18:35:41.361425Z"
    }
   },
   "outputs": [
    {
     "data": {
      "text/plain": [
       "464576"
      ]
     },
     "execution_count": 15,
     "metadata": {},
     "output_type": "execute_result"
    }
   ],
   "source": [
    "x = data_process(input_list)\n",
    "val = int(580721 * 0.80)\n",
    "val "
   ]
  },
  {
   "cell_type": "code",
   "execution_count": 16,
   "id": "b9a737ca",
   "metadata": {
    "ExecuteTime": {
     "end_time": "2021-04-08T18:35:41.400831Z",
     "start_time": "2021-04-08T18:35:41.396089Z"
    }
   },
   "outputs": [],
   "source": [
    "device = torch.device(\"cuda\" if torch.cuda.is_available() else \"cpu\")\n",
    "\n",
    "def batchify(data, bsz):\n",
    "    # Divide the dataset into bsz parts.\n",
    "    nbatch = data.size(0) // bsz\n",
    "    # Trim off any extra elements that wouldn't cleanly fit (remainders).\n",
    "    data = data.narrow(0, 0, nbatch * bsz)\n",
    "    # Evenly divide the data across the bsz batches.\n",
    "    data = data.view(bsz, -1).t().contiguous()\n",
    "    return data.to(device)"
   ]
  },
  {
   "cell_type": "code",
   "execution_count": 17,
   "id": "50ba1218",
   "metadata": {
    "ExecuteTime": {
     "end_time": "2021-04-08T18:35:41.411008Z",
     "start_time": "2021-04-08T18:35:41.404068Z"
    }
   },
   "outputs": [],
   "source": [
    "batch_size = 62\n",
    "eval_batch_size = 31\n",
    "train_data = batchify(x[0:val], batch_size)\n",
    "val_data = batchify(x[val:], eval_batch_size)"
   ]
  },
  {
   "cell_type": "code",
   "execution_count": 18,
   "id": "18779be3",
   "metadata": {
    "ExecuteTime": {
     "end_time": "2021-04-08T18:35:41.419879Z",
     "start_time": "2021-04-08T18:35:41.413173Z"
    }
   },
   "outputs": [
    {
     "data": {
      "text/plain": [
       "tensor([[     0,   2940,   7555,  ...,      3, 212159, 217520],\n",
       "        [     1,   2940,   7556,  ...,      3, 212160, 217521],\n",
       "        [     2,      3,   7557,  ...,      3, 212161, 217522],\n",
       "        ...,\n",
       "        [  2937,   7554,  10308,  ..., 212157, 217518, 222945],\n",
       "        [  2938,   7554,  10309,  ..., 212158, 217471, 222945],\n",
       "        [  2939,      3,  10310,  ..., 212159, 217519, 222946]])"
      ]
     },
     "execution_count": 18,
     "metadata": {},
     "output_type": "execute_result"
    }
   ],
   "source": [
    "train_data"
   ]
  },
  {
   "cell_type": "code",
   "execution_count": 19,
   "id": "0588c527",
   "metadata": {
    "ExecuteTime": {
     "end_time": "2021-04-08T18:35:41.426089Z",
     "start_time": "2021-04-08T18:35:41.422175Z"
    }
   },
   "outputs": [],
   "source": [
    "bptt = 35\n",
    "def get_batch(source, i):\n",
    "    seq_len = min(bptt, len(source) - 1 - i)\n",
    "    data = source[i:i+seq_len]\n",
    "    target = source[i+1:i+1+seq_len].reshape(-1)\n",
    "    return data, target"
   ]
  },
  {
   "cell_type": "code",
   "execution_count": 20,
   "id": "2ced2829",
   "metadata": {
    "ExecuteTime": {
     "end_time": "2021-04-08T18:35:43.487969Z",
     "start_time": "2021-04-08T18:35:41.429379Z"
    }
   },
   "outputs": [],
   "source": [
    "ntokens = len(word_token) # the size of vocabulary\n",
    "emsize = 200 # embedding dimension\n",
    "nhid = 200 # the dimension of the feedforward network model in nn.TransformerEncoder\n",
    "nlayers = 2 # the number of nn.TransformerEncoderLayer in nn.TransformerEncoder\n",
    "nhead = 2 # the number of heads in the multiheadattention models\n",
    "dropout = 0.2 # the dropout value\n",
    "model = TransformerModel(ntokens, emsize, nhead, nhid, nlayers, dropout).to(device)"
   ]
  },
  {
   "cell_type": "code",
   "execution_count": 21,
   "id": "3b748cc1",
   "metadata": {
    "ExecuteTime": {
     "end_time": "2021-04-08T18:35:43.501772Z",
     "start_time": "2021-04-08T18:35:43.490212Z"
    }
   },
   "outputs": [],
   "source": [
    "criterion = nn.CrossEntropyLoss()\n",
    "lr = 5.0 # learning rate\n",
    "optimizer = torch.optim.SGD(model.parameters(), lr=lr)\n",
    "scheduler = torch.optim.lr_scheduler.StepLR(optimizer, 1.0, gamma=0.95)\n",
    "\n",
    "\n",
    "def train():\n",
    "    model.train() # Turn on the train mode\n",
    "    total_loss = 0.\n",
    "    start_time = time.time()\n",
    "    src_mask = model.generate_square_subsequent_mask(bptt).to(device)\n",
    "    for batch, i in enumerate(range(0, train_data.size(0) - 1, bptt)):\n",
    "        data, targets = get_batch(train_data, i)\n",
    "        optimizer.zero_grad()\n",
    "        if data.size(0) != bptt:\n",
    "            src_mask = model.generate_square_subsequent_mask(data.size(0)).to(device)\n",
    "        output = model(data, src_mask)\n",
    "        loss = criterion(output.view(-1, ntokens), targets)\n",
    "        loss.backward()\n",
    "        torch.nn.utils.clip_grad_norm_(model.parameters(), 0.5)\n",
    "        optimizer.step()\n",
    "\n",
    "        total_loss += loss.item()\n",
    "        log_interval = 200\n",
    "        if batch % log_interval == 0 and batch > 0:\n",
    "            cur_loss = total_loss / log_interval\n",
    "            elapsed = time.time() - start_time\n",
    "            print('| epoch {:3d} | {:5d}/{:5d} batches | '\n",
    "                  'lr {:02.2f} | ms/batch {:5.2f} | '\n",
    "                  'loss {:5.2f} | ppl {:8.2f}'.format(\n",
    "                    epoch, batch, len(train_data) // bptt, scheduler.get_lr()[0],\n",
    "                    elapsed * 1000 / log_interval,\n",
    "                    cur_loss, math.exp(cur_loss)))\n",
    "            total_loss = 0\n",
    "            start_time = time.time()\n",
    "\n",
    "def evaluate(eval_model, data_source):\n",
    "    eval_model.eval() # Turn on the evaluation mode\n",
    "    total_loss = 0.\n",
    "    src_mask = model.generate_square_subsequent_mask(bptt).to(device)\n",
    "    with torch.no_grad():\n",
    "        for i in range(0, data_source.size(0) - 1, bptt):\n",
    "            data, targets = get_batch(data_source, i)\n",
    "            if data.size(0) != bptt:\n",
    "                src_mask = model.generate_square_subsequent_mask(data.size(0)).to(device)\n",
    "            output = eval_model(data, src_mask)\n",
    "            output_flat = output.view(-1, ntokens)\n",
    "            total_loss += len(data) * criterion(output_flat, targets).item()\n",
    "    return total_loss / (len(data_source) - 1)"
   ]
  },
  {
   "cell_type": "code",
   "execution_count": 22,
   "id": "7a385cbb",
   "metadata": {
    "ExecuteTime": {
     "end_time": "2021-04-08T22:46:49.351438Z",
     "start_time": "2021-04-08T18:35:43.508556Z"
    }
   },
   "outputs": [
    {
     "name": "stdout",
     "output_type": "stream",
     "text": [
      "Starting the epoch\n"
     ]
    },
    {
     "name": "stderr",
     "output_type": "stream",
     "text": [
      "/Users/jobymacbookpro/opt/anaconda3/envs/new_Strive/lib/python3.8/site-packages/torch/optim/lr_scheduler.py:369: UserWarning: To get the last learning rate computed by the scheduler, please use `get_last_lr()`.\n",
      "  warnings.warn(\"To get the last learning rate computed by the scheduler, \"\n"
     ]
    },
    {
     "name": "stdout",
     "output_type": "stream",
     "text": [
      "| epoch   1 |   200/  214 batches | lr 5.00 | ms/batch 22085.69 | loss 10.24 | ppl 28088.63\n",
      "-----------------------------------------------------------------------------------------\n",
      "| end of epoch   1 | time: 5138.70s | valid loss 12.34 | valid ppl 229461.11\n",
      "-----------------------------------------------------------------------------------------\n",
      "Starting the epoch\n",
      "| epoch   2 |   200/  214 batches | lr 4.51 | ms/batch 21368.88 | loss  8.81 | ppl  6730.44\n",
      "-----------------------------------------------------------------------------------------\n",
      "| end of epoch   2 | time: 4987.60s | valid loss 11.90 | valid ppl 146933.74\n",
      "-----------------------------------------------------------------------------------------\n",
      "Starting the epoch\n",
      "| epoch   3 |   200/  214 batches | lr 4.29 | ms/batch 21138.94 | loss  8.78 | ppl  6489.79\n",
      "-----------------------------------------------------------------------------------------\n",
      "| end of epoch   3 | time: 4939.33s | valid loss 11.94 | valid ppl 152647.75\n",
      "-----------------------------------------------------------------------------------------\n"
     ]
    }
   ],
   "source": [
    "best_val_loss = float(\"inf\")\n",
    "epochs = 3 # The number of epochs\n",
    "best_model = None\n",
    "\n",
    "for epoch in range(1, epochs + 1):\n",
    "    print(\"Starting the epoch\")\n",
    "    epoch_start_time = time.time()\n",
    "    train()\n",
    "    val_loss = evaluate(model, val_data)\n",
    "    print('-' * 89)\n",
    "    print('| end of epoch {:3d} | time: {:5.2f}s | valid loss {:5.2f} | '\n",
    "          'valid ppl {:8.2f}'.format(epoch, (time.time() - epoch_start_time),\n",
    "                                     val_loss, math.exp(val_loss)))\n",
    "    print('-' * 89)\n",
    "\n",
    "    if val_loss < best_val_loss:\n",
    "        best_val_loss = val_loss\n",
    "        best_model = model\n",
    "\n",
    "    scheduler.step()"
   ]
  },
  {
   "cell_type": "code",
   "execution_count": null,
   "id": "c3a338f6",
   "metadata": {},
   "outputs": [],
   "source": []
  }
 ],
 "metadata": {
  "kernelspec": {
   "display_name": "Python 3",
   "language": "python",
   "name": "python3"
  },
  "language_info": {
   "codemirror_mode": {
    "name": "ipython",
    "version": 3
   },
   "file_extension": ".py",
   "mimetype": "text/x-python",
   "name": "python",
   "nbconvert_exporter": "python",
   "pygments_lexer": "ipython3",
   "version": "3.8.2"
  }
 },
 "nbformat": 4,
 "nbformat_minor": 5
}
