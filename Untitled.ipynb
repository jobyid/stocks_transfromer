{
 "cells": [
  {
   "cell_type": "code",
   "execution_count": 1,
   "id": "177bf913",
   "metadata": {
    "ExecuteTime": {
     "end_time": "2021-04-08T16:19:07.884943Z",
     "start_time": "2021-04-08T16:19:05.257784Z"
    }
   },
   "outputs": [],
   "source": [
    "import spacy as sp \n",
    "import torch \n",
    "import torch.nn as nn\n",
    "import torch.functional as f \n",
    "from torch.nn import TransformerEncoder, TransformerEncoderLayer\n",
    "import math\n",
    "import time\n",
    "import os\n",
    "os.environ['KMP_DUPLICATE_LIB_OK']='True'"
   ]
  },
  {
   "cell_type": "markdown",
   "id": "6ccc2a1d",
   "metadata": {},
   "source": [
    "Now we have a string from the other workbook we can tokenise it.   \n"
   ]
  },
  {
   "cell_type": "code",
   "execution_count": 2,
   "id": "96405c12",
   "metadata": {
    "ExecuteTime": {
     "end_time": "2021-04-08T16:19:07.896132Z",
     "start_time": "2021-04-08T16:19:07.889908Z"
    }
   },
   "outputs": [],
   "source": [
    "text = open('stock_text.txt','r')"
   ]
  },
  {
   "cell_type": "code",
   "execution_count": 3,
   "id": "45ad9da2",
   "metadata": {
    "ExecuteTime": {
     "end_time": "2021-04-08T16:19:07.924415Z",
     "start_time": "2021-04-08T16:19:07.902768Z"
    }
   },
   "outputs": [],
   "source": [
    "str = text.read()"
   ]
  },
  {
   "cell_type": "code",
   "execution_count": 4,
   "id": "ef255d06",
   "metadata": {
    "ExecuteTime": {
     "end_time": "2021-04-08T16:19:07.935164Z",
     "start_time": "2021-04-08T16:19:07.931511Z"
    }
   },
   "outputs": [],
   "source": [
    "#nlp = sp.load('en_core_web_sm')\n",
    "#nlp.max_length = 8270369"
   ]
  },
  {
   "cell_type": "code",
   "execution_count": 5,
   "id": "b578d794",
   "metadata": {
    "ExecuteTime": {
     "end_time": "2021-04-08T16:19:07.944406Z",
     "start_time": "2021-04-08T16:19:07.939693Z"
    }
   },
   "outputs": [],
   "source": [
    "#doc = nlp(str)"
   ]
  },
  {
   "cell_type": "code",
   "execution_count": 6,
   "id": "e7141737",
   "metadata": {
    "ExecuteTime": {
     "end_time": "2021-04-08T16:19:07.952716Z",
     "start_time": "2021-04-08T16:19:07.948642Z"
    }
   },
   "outputs": [],
   "source": [
    "#words = [word.text for word in doc]\n",
    "#print(words)"
   ]
  },
  {
   "cell_type": "code",
   "execution_count": 7,
   "id": "ceb05b29",
   "metadata": {
    "ExecuteTime": {
     "end_time": "2021-04-08T16:19:07.966519Z",
     "start_time": "2021-04-08T16:19:07.958381Z"
    }
   },
   "outputs": [],
   "source": [
    "word_token = {}\n",
    "token_word = {}"
   ]
  },
  {
   "cell_type": "code",
   "execution_count": 8,
   "id": "2cd82fe1",
   "metadata": {
    "ExecuteTime": {
     "end_time": "2021-04-08T16:19:08.101486Z",
     "start_time": "2021-04-08T16:19:07.995461Z"
    }
   },
   "outputs": [],
   "source": [
    "str_split = str.split(\" ; \")"
   ]
  },
  {
   "cell_type": "code",
   "execution_count": 9,
   "id": "988470fd",
   "metadata": {
    "ExecuteTime": {
     "end_time": "2021-04-08T16:19:08.838538Z",
     "start_time": "2021-04-08T16:19:08.109864Z"
    }
   },
   "outputs": [],
   "source": [
    "token = 0\n",
    "for s in str_split:\n",
    "    s = s.strip(\"\\n\")\n",
    "    if s not in word_token.keys():\n",
    "        word_token[s] = token\n",
    "        token += 1 "
   ]
  },
  {
   "cell_type": "code",
   "execution_count": 10,
   "id": "ae111f31",
   "metadata": {
    "ExecuteTime": {
     "end_time": "2021-04-08T16:19:09.111628Z",
     "start_time": "2021-04-08T16:19:08.842262Z"
    }
   },
   "outputs": [],
   "source": [
    "for k in word_token.keys():\n",
    "    t = word_token[k]\n",
    "    token_word[t] = k "
   ]
  },
  {
   "cell_type": "code",
   "execution_count": 11,
   "id": "c2b10d29",
   "metadata": {
    "ExecuteTime": {
     "end_time": "2021-04-08T16:19:09.707184Z",
     "start_time": "2021-04-08T16:19:09.121896Z"
    }
   },
   "outputs": [
    {
     "data": {
      "text/plain": [
       "580721"
      ]
     },
     "execution_count": 11,
     "metadata": {},
     "output_type": "execute_result"
    }
   ],
   "source": [
    "#306996\n",
    "input_list = []\n",
    "for s in str_split:\n",
    "    s = s.strip(\"\\n\")\n",
    "    x = word_token[s]\n",
    "    input_list.append(x)\n",
    "len(input_list)"
   ]
  },
  {
   "cell_type": "code",
   "execution_count": 12,
   "id": "594f1375",
   "metadata": {
    "ExecuteTime": {
     "end_time": "2021-04-08T16:19:09.772452Z",
     "start_time": "2021-04-08T16:19:09.711234Z"
    }
   },
   "outputs": [],
   "source": [
    "class TransformerModel(nn.Module):\n",
    "    def __init__(self,ntoken, ninp, nhead, nhid, nlayers, dropout=0.5):\n",
    "        super(TransformerModel, self).__init__()\n",
    "        self.model_type = \"Transformer\"\n",
    "        self.pos_encoder = PositionalEncoding(ninp, dropout)\n",
    "        encoder_layers = TransformerEncoderLayer(ninp, nhead, nhid, dropout)\n",
    "        self.transformer_encoder = TransformerEncoder(encoder_layers, nlayers)\n",
    "        self.encoder = nn.Embedding(ntoken, ninp)\n",
    "        self.ninp = ninp\n",
    "        self.decoder = nn.Linear(ninp, ntoken)\n",
    "        \n",
    "        self.init_weights()\n",
    "        \n",
    "    def generate_square_subsequent_mask(self, sz):\n",
    "        mask = (torch.triu(torch.ones(sz,sz))==1).transpose(0,1)\n",
    "        mask = mask.float().masked_fill(mask == 0, float(\"-inf\")).masked_fill(mask==1, float(0.0))\n",
    "        return mask\n",
    "\n",
    "    def init_weights(self):\n",
    "        initrange = 0.1\n",
    "        self.encoder.weight.data.uniform_(-initrange, initrange)\n",
    "        self.decoder.bias.data.zero_()\n",
    "        self.decoder.weight.data.uniform_(-initrange, initrange)\n",
    "\n",
    "    def forward(self, src, src_mask):\n",
    "        src = self.encoder(src) * math.sqrt(self.ninp)\n",
    "        src = self.pos_encoder(src)\n",
    "        output = self.transformer_encoder(src, src_mask)\n",
    "        output = self.decoder(output)\n",
    "        return output"
   ]
  },
  {
   "cell_type": "code",
   "execution_count": 13,
   "id": "684b93a6",
   "metadata": {
    "ExecuteTime": {
     "end_time": "2021-04-08T16:19:09.799651Z",
     "start_time": "2021-04-08T16:19:09.776975Z"
    }
   },
   "outputs": [],
   "source": [
    "class PositionalEncoding(nn.Module):\n",
    "\n",
    "    def __init__(self, d_model, dropout=0.1, max_len=5000):\n",
    "        super(PositionalEncoding, self).__init__()\n",
    "        self.dropout = nn.Dropout(p=dropout)\n",
    "\n",
    "        pe = torch.zeros(max_len, d_model)\n",
    "        position = torch.arange(0, max_len, dtype=torch.float).unsqueeze(1)\n",
    "        div_term = torch.exp(torch.arange(0, d_model, 2).float() * (-math.log(10000.0) / d_model))\n",
    "        pe[:, 0::2] = torch.sin(position * div_term)\n",
    "        pe[:, 1::2] = torch.cos(position * div_term)\n",
    "        pe = pe.unsqueeze(0).transpose(0, 1)\n",
    "        self.register_buffer('pe', pe)\n",
    "\n",
    "    def forward(self, x):\n",
    "        x = x + self.pe[:x.size(0), :]\n",
    "        return self.dropout(x)"
   ]
  },
  {
   "cell_type": "code",
   "execution_count": 14,
   "id": "659e3721",
   "metadata": {
    "ExecuteTime": {
     "end_time": "2021-04-08T16:19:09.809368Z",
     "start_time": "2021-04-08T16:19:09.803525Z"
    }
   },
   "outputs": [],
   "source": [
    "def data_process(raw_text_iter):\n",
    "  data = torch.tensor(raw_text_iter)\n",
    "  return data #torch.cat(tuple(filter(lambda t: t.numel() > 0, data)))"
   ]
  },
  {
   "cell_type": "code",
   "execution_count": 15,
   "id": "d499251a",
   "metadata": {
    "ExecuteTime": {
     "end_time": "2021-04-08T16:19:09.881454Z",
     "start_time": "2021-04-08T16:19:09.814924Z"
    }
   },
   "outputs": [],
   "source": [
    "x = data_process(input_list)"
   ]
  },
  {
   "cell_type": "code",
   "execution_count": 16,
   "id": "9c654b0e",
   "metadata": {
    "ExecuteTime": {
     "end_time": "2021-04-08T16:19:09.894909Z",
     "start_time": "2021-04-08T16:19:09.886236Z"
    }
   },
   "outputs": [],
   "source": [
    "device = torch.device(\"cuda\" if torch.cuda.is_available() else \"cpu\")\n",
    "\n",
    "def batchify(data, bsz):\n",
    "    # Divide the dataset into bsz parts.\n",
    "    nbatch = data.size(0) // bsz\n",
    "    # Trim off any extra elements that wouldn't cleanly fit (remainders).\n",
    "    data = data.narrow(0, 0, nbatch * bsz)\n",
    "    # Evenly divide the data across the bsz batches.\n",
    "    data = data.view(bsz, -1).t().contiguous()\n",
    "    return data.to(device)"
   ]
  },
  {
   "cell_type": "code",
   "execution_count": 17,
   "id": "a0946499",
   "metadata": {
    "ExecuteTime": {
     "end_time": "2021-04-08T16:19:09.912546Z",
     "start_time": "2021-04-08T16:19:09.899829Z"
    }
   },
   "outputs": [],
   "source": [
    "batch_size = 61\n",
    "train_data = batchify(x, batch_size)"
   ]
  },
  {
   "cell_type": "code",
   "execution_count": 18,
   "id": "69549a02",
   "metadata": {
    "ExecuteTime": {
     "end_time": "2021-04-08T16:19:09.942821Z",
     "start_time": "2021-04-08T16:19:09.918330Z"
    }
   },
   "outputs": [
    {
     "data": {
      "text/plain": [
       "tensor([[     0,   4272,   8902,  ..., 286080, 293267, 300207],\n",
       "        [     1,   4272,   8903,  ..., 286123, 293268, 300208],\n",
       "        [     2,      3,   8904,  ..., 286124, 293269, 300208],\n",
       "        ...,\n",
       "        [  4271,   8433,  14233,  ..., 293265, 300205, 306993],\n",
       "        [  2014,      3,  14234,  ..., 293266, 300163, 306993],\n",
       "        [  4271,   8901,  14234,  ..., 293267, 300206, 306994]])"
      ]
     },
     "execution_count": 18,
     "metadata": {},
     "output_type": "execute_result"
    }
   ],
   "source": [
    "train_data"
   ]
  },
  {
   "cell_type": "code",
   "execution_count": 19,
   "id": "639b3f0c",
   "metadata": {
    "ExecuteTime": {
     "end_time": "2021-04-08T16:19:09.971564Z",
     "start_time": "2021-04-08T16:19:09.950645Z"
    }
   },
   "outputs": [],
   "source": [
    "bptt = 35\n",
    "def get_batch(source, i):\n",
    "    seq_len = min(bptt, len(source) - 1 - i)\n",
    "    data = source[i:i+seq_len]\n",
    "    target = source[i+1:i+1+seq_len].reshape(-1)\n",
    "    return data, target"
   ]
  },
  {
   "cell_type": "code",
   "execution_count": 20,
   "id": "e456c015",
   "metadata": {
    "ExecuteTime": {
     "end_time": "2021-04-08T16:19:14.949174Z",
     "start_time": "2021-04-08T16:19:09.978426Z"
    }
   },
   "outputs": [],
   "source": [
    "ntokens = len(word_token) # the size of vocabulary\n",
    "emsize = 200 # embedding dimension\n",
    "nhid = 200 # the dimension of the feedforward network model in nn.TransformerEncoder\n",
    "nlayers = 2 # the number of nn.TransformerEncoderLayer in nn.TransformerEncoder\n",
    "nhead = 2 # the number of heads in the multiheadattention models\n",
    "dropout = 0.2 # the dropout value\n",
    "model = TransformerModel(ntokens, emsize, nhead, nhid, nlayers, dropout).to(device)"
   ]
  },
  {
   "cell_type": "code",
   "execution_count": 21,
   "id": "a14226a6",
   "metadata": {
    "ExecuteTime": {
     "end_time": "2021-04-08T16:19:14.992736Z",
     "start_time": "2021-04-08T16:19:14.958238Z"
    }
   },
   "outputs": [],
   "source": [
    "criterion = nn.CrossEntropyLoss()\n",
    "lr = 5.0 # learning rate\n",
    "optimizer = torch.optim.SGD(model.parameters(), lr=lr)\n",
    "scheduler = torch.optim.lr_scheduler.StepLR(optimizer, 1.0, gamma=0.95)\n",
    "\n",
    "\n",
    "def train():\n",
    "    model.train() # Turn on the train mode\n",
    "    total_loss = 0.\n",
    "    start_time = time.time()\n",
    "    src_mask = model.generate_square_subsequent_mask(bptt).to(device)\n",
    "    for batch, i in enumerate(range(0, train_data.size(0) - 1, bptt)):\n",
    "        data, targets = get_batch(train_data, i)\n",
    "        optimizer.zero_grad()\n",
    "        if data.size(0) != bptt:\n",
    "            src_mask = model.generate_square_subsequent_mask(data.size(0)).to(device)\n",
    "        output = model(data, src_mask)\n",
    "        loss = criterion(output.view(-1, ntokens), targets)\n",
    "        loss.backward()\n",
    "        torch.nn.utils.clip_grad_norm_(model.parameters(), 0.5)\n",
    "        optimizer.step()\n",
    "\n",
    "        total_loss += loss.item()\n",
    "        log_interval = 200\n",
    "        if batch % log_interval == 0 and batch > 0:\n",
    "            cur_loss = total_loss / log_interval\n",
    "            elapsed = time.time() - start_time\n",
    "            print('| epoch {:3d} | {:5d}/{:5d} batches | '\n",
    "                  'lr {:02.2f} | ms/batch {:5.2f} | '\n",
    "                  'loss {:5.2f} | ppl {:8.2f}'.format(\n",
    "                    epoch, batch, len(train_data) // bptt, scheduler.get_lr()[0],\n",
    "                    elapsed * 1000 / log_interval,\n",
    "                    cur_loss, math.exp(cur_loss)))\n",
    "            total_loss = 0\n",
    "            start_time = time.time()\n",
    "\n",
    "def evaluate(eval_model, data_source):\n",
    "    eval_model.eval() # Turn on the evaluation mode\n",
    "    total_loss = 0.\n",
    "    src_mask = model.generate_square_subsequent_mask(bptt).to(device)\n",
    "    with torch.no_grad():\n",
    "        for i in range(0, data_source.size(0) - 1, bptt):\n",
    "            data, targets = get_batch(data_source, i)\n",
    "            if data.size(0) != bptt:\n",
    "                src_mask = model.generate_square_subsequent_mask(data.size(0)).to(device)\n",
    "            output = eval_model(data, src_mask)\n",
    "            output_flat = output.view(-1, ntokens)\n",
    "            total_loss += len(data) * criterion(output_flat, targets).item()\n",
    "    return total_loss / (len(data_source) - 1)"
   ]
  },
  {
   "cell_type": "code",
   "execution_count": null,
   "id": "7ecb6a89",
   "metadata": {
    "ExecuteTime": {
     "start_time": "2021-04-08T16:19:05.334Z"
    }
   },
   "outputs": [],
   "source": [
    "best_val_loss = float(\"inf\")\n",
    "epochs = 3 # The number of epochs\n",
    "best_model = None\n",
    "\n",
    "for epoch in range(1, epochs + 1):\n",
    "    print(\"Starting the epoch\")\n",
    "    epoch_start_time = time.time()\n",
    "    train()\n",
    "    val_loss = evaluate(model, val_data)\n",
    "    print('-' * 89)\n",
    "    print('| end of epoch {:3d} | time: {:5.2f}s | valid loss {:5.2f} | '\n",
    "          'valid ppl {:8.2f}'.format(epoch, (time.time() - epoch_start_time),\n",
    "                                     val_loss, math.exp(val_loss)))\n",
    "    print('-' * 89)\n",
    "\n",
    "    if val_loss < best_val_loss:\n",
    "        best_val_loss = val_loss\n",
    "        best_model = model\n",
    "\n",
    "    scheduler.step()"
   ]
  },
  {
   "cell_type": "code",
   "execution_count": null,
   "id": "ee499029",
   "metadata": {},
   "outputs": [],
   "source": []
  }
 ],
 "metadata": {
  "kernelspec": {
   "display_name": "Python 3",
   "language": "python",
   "name": "python3"
  },
  "language_info": {
   "codemirror_mode": {
    "name": "ipython",
    "version": 3
   },
   "file_extension": ".py",
   "mimetype": "text/x-python",
   "name": "python",
   "nbconvert_exporter": "python",
   "pygments_lexer": "ipython3",
   "version": "3.8.2"
  }
 },
 "nbformat": 4,
 "nbformat_minor": 5
}
